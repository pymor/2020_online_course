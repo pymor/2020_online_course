{
 "cells": [
  {
   "cell_type": "markdown",
   "metadata": {},
   "source": [
    "# Exercises for Day 1 of the pyMOR Online Course 2020"
   ]
  },
  {
   "cell_type": "code",
   "execution_count": null,
   "metadata": {},
   "outputs": [],
   "source": [
    "from pymor.basic import *\n",
    "import numpy as np"
   ]
  },
  {
   "cell_type": "markdown",
   "metadata": {},
   "source": [
    "## Exercise 1: Building a 1D model with output"
   ]
  },
  {
   "cell_type": "markdown",
   "metadata": {},
   "source": [
    "Apart from 2D models, pyMOR's builtin discretization toolkit also supports 1D problems. In this exercise we will solve a 1D problem using pyMOR and attach an output functional to the `Model`."
   ]
  },
  {
   "cell_type": "markdown",
   "metadata": {},
   "source": [
    "### Exercise 1 a)"
   ]
  },
  {
   "cell_type": "markdown",
   "metadata": {},
   "source": [
    "Try to discretize the boundary value problem\n",
    "\n",
    "$$\n",
    "\\begin{align}\n",
    " \\left(-d(x,\\mu) \\cdot u^\\prime(x,\\mu)\\right)^\\prime &= f(x) & x &\\in (-1, 1) \\\\\n",
    "                                u(-1,\\mu) &= 0 \\\\\n",
    "                                 u(1,\\mu) &= 0\n",
    "\\end{align}\n",
    "$$\n",
    "\n",
    "where the source term $f(x)$ and the diffusivity $d(x,\\mu)$ are given as\n",
    "\n",
    "$$\n",
    "d(x,\\mu) = \n",
    "\\begin{cases}\n",
    "1     & x < 0 \\\\\n",
    "0     & x > 0\n",
    "\\end{cases}\n",
    "\\qquad\\text{and}\\qquad\n",
    "d(x,\\mu) = \n",
    "\\begin{cases}\n",
    "1     & x < 0 \\\\\n",
    "e^\\mu & x > 0.\n",
    "\\end{cases}\n",
    "$$\n",
    "\n",
    "Solve the resulting model for a few parameter values and visualize the solution.\n",
    "\n",
    "**Hints:**\n",
    "- Create a `StationaryProblem` to feed into `discretize_stationary_cg`.\n",
    "- Use `LineDomain` to specify a one-dimensional domain.\n",
    "- Use `ExpressionFunction` to define $f$ and $d$."
   ]
  },
  {
   "cell_type": "code",
   "execution_count": null,
   "metadata": {},
   "outputs": [],
   "source": [
    "p = StationaryProblem(\n",
    "    domain=LineDomain([-1,1]),\n",
    "    diffusion=ExpressionFunction('1 + (x[..., 0] > 0) * (exp(p[0])-1)',\n",
    "                                 1, parameters={'p': 1}),\n",
    "    rhs=ExpressionFunction('x[..., 0] < 0', 1),\n",
    ")\n",
    "\n",
    "m, _ = discretize_stationary_cg(p, 1/100)\n",
    "\n",
    "m.visualize((m.solve(-2), m.solve(1)))"
   ]
  },
  {
   "cell_type": "markdown",
   "metadata": {},
   "source": [
    "### Exercise 1 b)"
   ]
  },
  {
   "cell_type": "markdown",
   "metadata": {},
   "source": [
    "Can you define `diffusion` by an equivalent `LincombFunction` such that the parameter only appears in the coefficients? Solve the new model again for a few parameters. Notice that matrices are now only assembled once when the `Model` is created.\n",
    "\n",
    "**Hints:**\n",
    "- Use an `ExpressionParameterFunctional` as one of the coefficients.\n",
    "   "
   ]
  },
  {
   "cell_type": "code",
   "execution_count": null,
   "metadata": {},
   "outputs": [],
   "source": [
    "p = StationaryProblem(\n",
    "    domain=LineDomain([-1,1]),\n",
    "    diffusion=LincombFunction(\n",
    "        [ExpressionFunction('x[..., 0] < 0', 1),\n",
    "         ExpressionFunction('x[..., 0] > 0', 1)],\n",
    "        [1,\n",
    "         ExpressionParameterFunctional('exp(p[0])', {'p': 1})\n",
    "        ]\n",
    "    ),\n",
    "    rhs=ExpressionFunction('x[..., 0] < 0', 1),\n",
    ")\n",
    "\n",
    "m, _ = discretize_stationary_cg(p, 1/100)\n",
    "\n",
    "m.visualize((m.solve(-2), m.solve(1)))"
   ]
  },
  {
   "cell_type": "markdown",
   "metadata": {},
   "source": [
    "### Exercise 1 c)"
   ]
  },
  {
   "cell_type": "markdown",
   "metadata": {},
   "source": [
    "In addition, define a linear output functional $\\ell$ for the `StationaryProblem` given by the average value of the solution over the domain, i.e.\n",
    "\n",
    "$$\n",
    "\\ell(u) := \\frac{1}{2} \\int_{-1}^1 u(x) \\,\\mathrm{dx}.\n",
    "$$\n",
    "\n",
    "Create an output vs. parameter plot for the model for $\\mu$ ranging from $-3$ to $3$.\n",
    "\n",
    "**Hints:**\n",
    "- Output functionals are specified using the `outputs` parameter of `StationaryProblem.__init__`. \n",
    "  The parameter takes a list of 2-tuples of the form `(type, defining_function)` where `type` can either be\n",
    "  `'l2'` or `'l2_boundary'` depending on whether the functional is given by an $L^2$-inner product type integral\n",
    "  over the domain or the domain boundary. In our case, we have to specify `'l2'` as type, and the constant\n",
    "  function with value $1/2$ as `defining_function`.\n",
    "  \n",
    "- To compute the output for given parameter values `mu`, use `Model.output`, which returns a `VectorArray` with\n",
    "  the output quantities. Since we want to access the actual values, we need to call its 'to_numpy()' method\n",
    "  which, in this case, will return a $1 \\times 1$ NumPy array with the desired value.\n",
    "  To obtain the solution along with the corresponding output, you can use `Model.solve` with `return_output=True`.\n",
    "  \n",
    "- Use the `plot` function from `matplotlib.pyplot` to create the plot."
   ]
  },
  {
   "cell_type": "code",
   "execution_count": null,
   "metadata": {},
   "outputs": [],
   "source": [
    "p = StationaryProblem(\n",
    "    domain=LineDomain([-1,1]),\n",
    "    diffusion=LincombFunction(\n",
    "        [ExpressionFunction('x[..., 0] < 0', 1),\n",
    "         ExpressionFunction('x[..., 0] > 0', 1)],\n",
    "        [1,\n",
    "         ExpressionParameterFunctional('exp(p[0])', {'p': 1})\n",
    "        ]\n",
    "    ),\n",
    "    rhs=ExpressionFunction('x[..., 0] < 0', 1),\n",
    "    outputs=[('l2', ConstantFunction(0.5, 1))]\n",
    ")\n",
    "\n",
    "m, _ = discretize_stationary_cg(p, 1/100)\n",
    "\n",
    "mus = np.linspace(-3, 3, 20)\n",
    "outputs = [m.output(mu).to_numpy()[0,0] for mu in mus]\n",
    "\n",
    "import matplotlib.pyplot as plt\n",
    "plt.plot(mus, outputs)"
   ]
  },
  {
   "cell_type": "markdown",
   "metadata": {},
   "source": [
    "## Exercise 2: Solving a time-dependent advection-diffusion equation"
   ]
  },
  {
   "cell_type": "markdown",
   "metadata": {},
   "source": [
    "So far we have only considered pure diffusion equations. In this exercise will add an advection term and also add time to the equation."
   ]
  },
  {
   "cell_type": "markdown",
   "metadata": {},
   "source": [
    "### Exercise 2 a)"
   ]
  },
  {
   "cell_type": "markdown",
   "metadata": {},
   "source": [
    "Discretize and solve the following boundary value problem for different values of $\\mu$:\n",
    "\n",
    "$$\n",
    "\\begin{align}\n",
    "- \\Delta u(x,y,\\mu) + \\mu \\cdot \\nabla \\cdot \\left(\\begin{bmatrix}-y \\\\ x\\end{bmatrix} \\cdot u(x,y,\\mu)\\right) &= f(x,y) & (x,y) &\\in \\Omega := (-1, 1) \\times (-1, 1) \\\\\n",
    "u(x,y,\\mu) &= 0 & (x,y) &\\in \\partial\\Omega.\n",
    "\\end{align}\n",
    "$$\n",
    "\n",
    "The source term $f(x,y)$ is given as\n",
    "\n",
    "$$\n",
    "f(x,y) =\n",
    "\\begin{cases}\n",
    "1 & (x-0.5)^2 + y^2 < 0.01 \\\\\n",
    "0 & \\text{otherwise}.\n",
    "\\end{cases}\n",
    "$$\n",
    "\n",
    "**Hints:**\n",
    "- Use the `advection` parameter to specify the flux field $[-y, x]^T$.\n",
    "- Use an `ExpressionFunction` with `shape_range=2` to define the flux field.\n",
    "- In the expression, you can use all methods of the numpy module in the form `'np.XYZ'`.\n",
    "- You can use `np.concatenate` to build the vector.\n",
    "- For parameter separation you can define a `LincombFunction` with a single function and a single coefficient. You can also simply multiply the function with the parameter functional."
   ]
  },
  {
   "cell_type": "code",
   "execution_count": null,
   "metadata": {},
   "outputs": [],
   "source": [
    "p = StationaryProblem(\n",
    "    domain=RectDomain([[-1,-1],[1,1]]),\n",
    "    diffusion=ConstantFunction(1, 2),\n",
    "    advection=\n",
    "        ProjectionParameterFunctional('p', 1) *\n",
    "        ExpressionFunction('np.concatenate([-x[...,1:2], x[...,0:1]], axis=-1)', 2, 2),\n",
    "    rhs=ExpressionFunction('((x[..., 0] - 0.5)**2 + x[..., 1]**2) < 0.01', 2)\n",
    ")\n",
    "\n",
    "m, _ = discretize_stationary_cg(p, 1/100)\n",
    "\n",
    "m.visualize((m.solve(10), m.solve(100)), separate_colorbars=True)"
   ]
  },
  {
   "cell_type": "markdown",
   "metadata": {},
   "source": [
    "### Exercise 2 b)"
   ]
  },
  {
   "cell_type": "markdown",
   "metadata": {},
   "source": [
    "Now solve a non-stationary version of this problem:\n",
    "\n",
    "$$\n",
    "\\begin{align}\n",
    "\\partial_t u(x,y,t,\\mu) - \\Delta u(x,y,t,\\mu) + \\mu \\cdot \\nabla \\cdot \\left(\\begin{bmatrix}-y \\\\ x\\end{bmatrix} \\cdot u(x,y,t,\\mu)\\right) &= f(x,y) & (x,y) &\\in \\Omega := (-1, 1) \\times (-1, 1),\\ t \\in (0, 0.1) \\\\\n",
    "u(x,y,t,\\mu) &= 0 & (x,y) &\\in \\partial\\Omega,\\ t \\in (0,0.1) \\\\\n",
    "u(x,y,0,\\mu) &= 0 & (x,y) &\\in \\Omega. \\\\\n",
    "\\end{align}\n",
    "$$\n",
    "\n",
    "**Hints:**\n",
    "- Create an `InstationaryProblem` by passing it your `StationaryProblem`, a `ConstantFunction` defining the initial condition and the final simulation time.\n",
    "- Build the `Model` using `discretize_instationary_cg`. Pass the number of (implicit Euler) time steps using the `nt` parameter.\n",
    "- `solve` will return a `VectorArray` of all solution time-steps. `visualize` will render the array as a time series."
   ]
  },
  {
   "cell_type": "code",
   "execution_count": null,
   "metadata": {},
   "outputs": [],
   "source": [
    "p = InstationaryProblem(p, ConstantFunction(0, 2), 0.1)\n",
    "m, _ = discretize_instationary_cg(p, diameter=1/100, nt=10)\n",
    "m.visualize(m.solve(100))"
   ]
  },
  {
   "cell_type": "markdown",
   "metadata": {},
   "source": [
    "## Exercise 3: Unstructured meshes and Robin boundary conditions"
   ]
  },
  {
   "cell_type": "markdown",
   "metadata": {},
   "source": [
    "So far, we have only defined our problems on rectangular domains for which we could use structured meshes. pyMOR's discretization toolkit also supports unstructured triangle meshes created with Gmsh. These can be directly read using `pymor.discretizers.builtin.grids.gmsh.load_gmsh`. In this exercise, we will use pyMOR `domaindescriptions` that are transformed into a Gmsh geometry definition for meshing."
   ]
  },
  {
   "cell_type": "markdown",
   "metadata": {},
   "source": [
    "### Exercise 3 a)"
   ]
  },
  {
   "cell_type": "markdown",
   "metadata": {},
   "source": [
    "Solve the Poisson equation\n",
    "$$\n",
    "\\begin{align}\n",
    "- \\Delta u(x) &= f(x) & x &\\in \\Omega\\\\\n",
    "         u(x) &= 0    & x &\\in \\partial\\Omega\n",
    "\\end{align}\n",
    "$$\n",
    "\n",
    "where the domain $\\Omega$ is the circular sector defined by\n",
    "\n",
    "$$\n",
    "\\Omega := \\left\\{\n",
    "\\begin{bmatrix}r\\cdot\\cos(\\phi) \\\\ r\\cdot\\sin(\\phi) \\end{bmatrix} \\ \\middle|\\ 0\\leq r < 1,\\ 0 \\leq \\phi < 1.9\\cdot\\pi\n",
    "\\right\\}.\n",
    "$$\n",
    "\n",
    "**Hints:**\n",
    "- Use `CircularSectorDomain` to define $\\Omega$."
   ]
  },
  {
   "cell_type": "code",
   "execution_count": null,
   "metadata": {},
   "outputs": [],
   "source": [
    "p = StationaryProblem(\n",
    "    domain=CircularSectorDomain(1.9*np.pi, 1),\n",
    "    diffusion=ConstantFunction(1, 2),\n",
    "    rhs=ConstantFunction(1,2)\n",
    ")\n",
    "\n",
    "m, _ = discretize_stationary_cg(p, 1/10)\n",
    "m.visualize(m.solve())"
   ]
  },
  {
   "cell_type": "markdown",
   "metadata": {},
   "source": [
    "### Exercise 3 b)"
   ]
  },
  {
   "cell_type": "markdown",
   "metadata": {},
   "source": [
    "Solve\n",
    "\n",
    "$$\n",
    "\\begin{align}\n",
    "       - \\Delta u(x) &= f(x) & x &\\in \\Omega\\\\\n",
    "-\\nabla u(x) \\cdot n &= -1   & x &\\in \\partial\\Omega \\cap \\mathbb{R} \\times \\{0\\}\\\\\n",
    "                u(x) &= 0    & x &\\in \\partial\\Omega \\setminus \\mathbb{R} \\times \\{0\\}\n",
    "\\end{align}\n",
    "$$\n",
    "\n",
    "on the domain $\\Omega$ given by the following heat-sink geometry:\n",
    "\n",
    "![heatsink.png](heatsink.png)\n",
    "\n",
    "**Hints:**\n",
    "- Use `PolygonalDomain` to define $\\Omega$."
   ]
  },
  {
   "cell_type": "code",
   "execution_count": null,
   "metadata": {},
   "outputs": [],
   "source": [
    "def heat_sink_domain(bottom, fins):\n",
    "    fin_length = 10\n",
    "    fin_height = 0.1\n",
    "    fin_space = 0.1\n",
    "    fin_count  = 10\n",
    "    base_width = 4\n",
    "    base_height = 0.2\n",
    "\n",
    "    points = [[base_width/2, 0],\n",
    "              [base_width/2, base_height]]\n",
    "\n",
    "    def add_fin(right):\n",
    "        lp = points[-1]\n",
    "        sign = 1 if right else -1\n",
    "        new_points = [[lp[0],                   lp[1] + sign*0.5*fin_space],\n",
    "                      [lp[0] + sign*fin_length, lp[1] + sign*0.5*fin_space],\n",
    "                      [lp[0] + sign*fin_length, lp[1] + sign*(0.5*fin_space + fin_height)],\n",
    "                      [lp[0],                   lp[1] + sign*(0.5*fin_space + fin_height)],\n",
    "                      [lp[0],                   lp[1] + sign*(fin_height + fin_space)]]\n",
    "        points.extend(new_points)\n",
    "\n",
    "    for _ in range(fin_count):\n",
    "        add_fin(True)\n",
    "\n",
    "    points.append([points[-1][0] - base_width, points[-1][1]])\n",
    "\n",
    "    for _ in range(fin_count):\n",
    "        add_fin(False)\n",
    "\n",
    "    points.append([-base_width/2, 0])\n",
    "\n",
    "    domain = PolygonalDomain(points, {fins: list(range(len(points))),\n",
    "                                      bottom: [len(points)]})\n",
    "    return domain\n",
    "\n",
    "p = StationaryProblem(\n",
    "    domain=heat_sink_domain('neumann', 'dirichlet'),\n",
    "    diffusion=ConstantFunction(1, 2),\n",
    "    neumann_data=ConstantFunction(-1, 2),\n",
    ")\n",
    "m, _ = discretize_stationary_cg(p, diameter=1/100)\n",
    "m.visualize(m.solve())"
   ]
  },
  {
   "cell_type": "markdown",
   "metadata": {},
   "source": [
    "### Exercise 3 c)"
   ]
  },
  {
   "cell_type": "markdown",
   "metadata": {},
   "source": [
    "Let's solve a physically somewhat more realistic model by imposing Robin boundary conditions on the fins, i.e., solve\n",
    "\n",
    "$$\n",
    "\\begin{align}\n",
    "       - d \\cdot \\Delta u(x)  &= f(x)                 & x &\\in \\Omega\\\\\n",
    "- d \\cdot \\nabla u(x) \\cdot n &= -80                  & x &\\in \\partial\\Omega \\cap \\mathbb{R} \\times \\{0\\}\\\\\n",
    "- d \\cdot \\nabla u(x) \\cdot n &= 1\\cdot(u(x) - 24)    & x &\\in \\partial\\Omega \\setminus \\mathbb{R} \\times \\{0\\}\n",
    "\\end{align}\n",
    "$$\n",
    "\n",
    "with $d = 10^3$ for the same heat-sink domain $\\Omega$ as before.\n",
    "\n",
    "**Hints:**\n",
    "- Pass the (constant) Robin data functions $1$ and $24$ as a tuple to `StationaryProblem.__init__` via the `robin_data` parameter."
   ]
  },
  {
   "cell_type": "code",
   "execution_count": null,
   "metadata": {},
   "outputs": [],
   "source": [
    "p = StationaryProblem(\n",
    "    domain=heat_sink_domain('neumann', 'robin'),\n",
    "    diffusion=ConstantFunction(1000, 2),\n",
    "    neumann_data=ConstantFunction(-80, 2),\n",
    "    robin_data=(ConstantFunction(1, 2), ConstantFunction(24, 2))\n",
    ")\n",
    "m, _ = discretize_stationary_cg(p, diameter=1/100)\n",
    "m.visualize(m.solve()) "
   ]
  }
 ],
 "metadata": {
  "kernelspec": {
   "display_name": "Python 3",
   "language": "python",
   "name": "python3"
  },
  "language_info": {
   "codemirror_mode": {
    "name": "ipython",
    "version": 3
   },
   "file_extension": ".py",
   "mimetype": "text/x-python",
   "name": "python",
   "nbconvert_exporter": "python",
   "pygments_lexer": "ipython3",
   "version": "3.7.3"
  }
 },
 "nbformat": 4,
 "nbformat_minor": 4
}
