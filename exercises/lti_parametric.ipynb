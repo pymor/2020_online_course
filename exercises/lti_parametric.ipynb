{
 "cells": [
  {
   "cell_type": "markdown",
   "metadata": {},
   "source": [
    "# Imports"
   ]
  },
  {
   "cell_type": "code",
   "execution_count": null,
   "metadata": {},
   "outputs": [],
   "source": [
    "import numpy as np\n",
    "import scipy.linalg as spla\n",
    "import scipy.io as spio\n",
    "import matplotlib.pyplot as plt\n",
    "from matplotlib import colors"
   ]
  },
  {
   "cell_type": "code",
   "execution_count": null,
   "metadata": {},
   "outputs": [],
   "source": [
    "plt.rcParams['figure.dpi'] = 100\n",
    "plt.rcParams['axes.grid'] = True"
   ]
  },
  {
   "cell_type": "markdown",
   "metadata": {},
   "source": [
    "# Build model"
   ]
  },
  {
   "cell_type": "markdown",
   "metadata": {},
   "source": [
    "The following code builds a single-parameter variant of the [thermal block benchmark from MOR Wiki](https://morwiki.mpi-magdeburg.mpg.de/morwiki/index.php/Thermal_Block#Single_parameter) of the form\n",
    "$$\n",
    "\\begin{align*}\n",
    "  E \\dot{x}(t, \\mu) & = (A_0 + \\mu A_1) x(t, \\mu) + B u(t), \\\\\n",
    "  y(t, \\mu) & = C x(t, \\mu).\n",
    "\\end{align*}\n",
    "$$\n",
    "The parameter domain is $[10^{-6}, 10^2]$.\n",
    "\n",
    "Since $A$ is parametric, the `LTIModel.from_matrices` method cannot be used and the pyMOR operators need to be created before using the `LTIModel` constructor. The non-parametric operators can be `NumpyMatrixOperators`, while $A$ can be represented using a `LincombOperator` of non-parametric operators and with one scalar being a `ParameterFunctional`."
   ]
  },
  {
   "cell_type": "code",
   "execution_count": null,
   "metadata": {},
   "outputs": [],
   "source": [
    "from pymor.models.iosys import LTIModel\n",
    "from pymor.operators.constructions import LincombOperator\n",
    "from pymor.operators.numpy import NumpyMatrixOperator\n",
    "from pymor.parameters.functionals import ProjectionParameterFunctional"
   ]
  },
  {
   "cell_type": "code",
   "execution_count": null,
   "metadata": {},
   "outputs": [],
   "source": [
    "mat = spio.loadmat('../lectures/data/ABCE.mat')\n",
    "mat.keys()"
   ]
  },
  {
   "cell_type": "code",
   "execution_count": null,
   "metadata": {},
   "outputs": [],
   "source": [
    "A0 = NumpyMatrixOperator(mat['A0'])\n",
    "A1 = NumpyMatrixOperator(sum(0.2 * i * mat[f'A{i}'] for i in range(1, 5)))\n",
    "A = LincombOperator((A0, A1), (1, ProjectionParameterFunctional('mu', index=0)))\n",
    "B = NumpyMatrixOperator(mat['B'])\n",
    "C = NumpyMatrixOperator(mat['C'])\n",
    "E = NumpyMatrixOperator(mat['E'])"
   ]
  },
  {
   "cell_type": "code",
   "execution_count": null,
   "metadata": {},
   "outputs": [],
   "source": [
    "fom = LTIModel(A, B, C, E=E)"
   ]
  },
  {
   "cell_type": "code",
   "execution_count": null,
   "metadata": {},
   "outputs": [],
   "source": [
    "fom"
   ]
  },
  {
   "cell_type": "code",
   "execution_count": null,
   "metadata": {},
   "outputs": [],
   "source": [
    "print(fom)"
   ]
  },
  {
   "cell_type": "markdown",
   "metadata": {},
   "source": [
    "# Parametric magnitude plot"
   ]
  },
  {
   "cell_type": "markdown",
   "metadata": {},
   "source": [
    "We can plot the surface of $\\| H(i \\omega, \\mu) \\|$ to see the dynamic behavior of the model."
   ]
  },
  {
   "cell_type": "code",
   "execution_count": null,
   "metadata": {},
   "outputs": [],
   "source": [
    "w_list = np.logspace(-4, 4, 10)\n",
    "mu_list = np.logspace(-6, 2, 10)\n",
    "tf = np.array([[spla.norm(...)  # replace \"...\" with code to evaluate H(i * w, mu)\n",
    "                for w in w_list]\n",
    "               for mu in mu_list])"
   ]
  },
  {
   "cell_type": "code",
   "execution_count": null,
   "metadata": {},
   "outputs": [],
   "source": [
    "fig, ax = plt.subplots()\n",
    "pcm = ax.pcolormesh(w_list, mu_list, tf, shading='gouraud', norm=colors.LogNorm())\n",
    "ax.set_xscale('log')\n",
    "ax.set_yscale('log')\n",
    "ax.set_xlabel(r'Frequency $\\omega$')\n",
    "ax.set_ylabel(r'Parameter $\\mu$')\n",
    "ax.set_title(r'$\\Vert H(i \\omega, \\mu) \\Vert$')\n",
    "_ = fig.colorbar(pcm)"
   ]
  },
  {
   "cell_type": "markdown",
   "metadata": {},
   "source": [
    "# Hankel singular values"
   ]
  },
  {
   "cell_type": "code",
   "execution_count": null,
   "metadata": {},
   "outputs": [],
   "source": [
    "mu_list_hsv = np.logspace(-6, 2, 3)\n",
    "hsv_list = [... for mu in mu_list_hsv]  # write code to get Hankel singular values for parameter mu"
   ]
  },
  {
   "cell_type": "code",
   "execution_count": null,
   "metadata": {},
   "outputs": [],
   "source": [
    "fig, ax = plt.subplots()\n",
    "for mu, hsv in zip(mu_list_hsv, hsv_list):\n",
    "    ax.semilogy(hsv, '.-', label=fr'$\\mu$ = {mu}')\n",
    "ax.legend()\n",
    "_ = ax.set_title('Hankel singular values')"
   ]
  },
  {
   "cell_type": "markdown",
   "metadata": {},
   "source": [
    "# Balanced truncation"
   ]
  },
  {
   "cell_type": "markdown",
   "metadata": {},
   "source": [
    "Reduce the model for $\\mu = 0.01$ using balanced truncation to order $10$."
   ]
  },
  {
   "cell_type": "code",
   "execution_count": null,
   "metadata": {},
   "outputs": [],
   "source": [
    "from pymor.reductors.bt import BTReductor"
   ]
  },
  {
   "cell_type": "code",
   "execution_count": null,
   "metadata": {},
   "outputs": [],
   "source": [
    "bt = BTReductor(...)"
   ]
  },
  {
   "cell_type": "code",
   "execution_count": null,
   "metadata": {
    "scrolled": true
   },
   "outputs": [],
   "source": [
    "rom0 = bt.reduce(...)"
   ]
  },
  {
   "cell_type": "markdown",
   "metadata": {},
   "source": [
    "Note that the ROM is not parametric."
   ]
  },
  {
   "cell_type": "code",
   "execution_count": null,
   "metadata": {},
   "outputs": [],
   "source": [
    "rom0"
   ]
  },
  {
   "cell_type": "markdown",
   "metadata": {},
   "source": [
    "`LTIPGReductor` can be used to obtain a parametric ROM."
   ]
  },
  {
   "cell_type": "code",
   "execution_count": null,
   "metadata": {},
   "outputs": [],
   "source": [
    "from pymor.reductors.basic import LTIPGReductor"
   ]
  },
  {
   "cell_type": "code",
   "execution_count": null,
   "metadata": {},
   "outputs": [],
   "source": [
    "pg = LTIPGReductor(fom, ...)  # use bt.V and bt.W"
   ]
  },
  {
   "cell_type": "code",
   "execution_count": null,
   "metadata": {},
   "outputs": [],
   "source": [
    "rom_pg = pg.reduce()"
   ]
  },
  {
   "cell_type": "markdown",
   "metadata": {},
   "source": [
    "The parametric structure should be preserved."
   ]
  },
  {
   "cell_type": "code",
   "execution_count": null,
   "metadata": {},
   "outputs": [],
   "source": [
    "rom_pg"
   ]
  },
  {
   "cell_type": "markdown",
   "metadata": {},
   "source": [
    "As above, we can plot the err_pgor $\\| H(i \\omega, \\mu) - \\hat{H}(i \\omega, \\mu) \\|$"
   ]
  },
  {
   "cell_type": "code",
   "execution_count": null,
   "metadata": {},
   "outputs": [],
   "source": [
    "err_pg = fom - rom_pg"
   ]
  },
  {
   "cell_type": "code",
   "execution_count": null,
   "metadata": {},
   "outputs": [],
   "source": [
    "w_list = np.logspace(-4, 4, 10)\n",
    "mu_list = np.logspace(-6, 2, 10)\n",
    "tf_err_pg = np.array([[spla.norm(...)\n",
    "                    for w in w_list]\n",
    "                   for mu in mu_list])"
   ]
  },
  {
   "cell_type": "code",
   "execution_count": null,
   "metadata": {},
   "outputs": [],
   "source": [
    "fig, ax = plt.subplots()\n",
    "pcm = ax.pcolormesh(w_list, mu_list, tf_err_pg, shading='gouraud', norm=colors.LogNorm())\n",
    "ax.set_xscale('log')\n",
    "ax.set_yscale('log')\n",
    "ax.set_xlabel(r'Frequency $\\omega$')\n",
    "ax.set_ylabel(r'Parameter $\\mu$')\n",
    "ax.set_title(r'$\\Vert H(i \\omega, \\mu) - \\hat{H}(i \\omega, \\mu) \\Vert$')\n",
    "_ = fig.colorbar(pcm)"
   ]
  },
  {
   "cell_type": "markdown",
   "metadata": {},
   "source": [
    "The ROM looks accurate around $\\mu = 0.01$, but not close to parameter domain boundaries. Check if the ROM is asymptotically stable for $\\mu \\in \\{10^{-6}, 10^{-2}, 10^{2}\\}$."
   ]
  },
  {
   "cell_type": "markdown",
   "metadata": {},
   "source": [
    "# Building global bases"
   ]
  },
  {
   "cell_type": "markdown",
   "metadata": {},
   "source": [
    "A simple approach to improving accuracy over the parameter domain is concatenating bases obtained from running balanced truncation for a few different parameter values."
   ]
  },
  {
   "cell_type": "markdown",
   "metadata": {},
   "source": [
    "First, initilize empty `VectorArrays` `V` and `W` using the `empty` method of the `fom.A.source` `VectorSpace`."
   ]
  },
  {
   "cell_type": "code",
   "execution_count": null,
   "metadata": {},
   "outputs": [],
   "source": [
    "V = ...\n",
    "W = ..."
   ]
  },
  {
   "cell_type": "markdown",
   "metadata": {},
   "source": [
    "Next, append local bases from balanced truncation"
   ]
  },
  {
   "cell_type": "code",
   "execution_count": null,
   "metadata": {},
   "outputs": [],
   "source": [
    "mu_list_bt = np.logspace(-6, 2, 3)\n",
    "for mu in mu_list_bt:\n",
    "    bt_mu = ...\n",
    "    rom_bt_mu = bt.reduce(10)\n",
    "    V.append(...)\n",
    "    W.append(...)"
   ]
  },
  {
   "cell_type": "markdown",
   "metadata": {},
   "source": [
    "Use POD on the bases to find dominant directions (and orthonormalize the bases)."
   ]
  },
  {
   "cell_type": "code",
   "execution_count": null,
   "metadata": {},
   "outputs": [],
   "source": [
    "from pymor.algorithms.pod import pod"
   ]
  },
  {
   "cell_type": "code",
   "execution_count": null,
   "metadata": {},
   "outputs": [],
   "source": [
    "... = pod(V)\n",
    "... = pod(W)"
   ]
  },
  {
   "cell_type": "markdown",
   "metadata": {},
   "source": [
    "Optionally, truncate the bases from POD, and then use them to project the FOM."
   ]
  },
  {
   "cell_type": "code",
   "execution_count": null,
   "metadata": {},
   "outputs": [],
   "source": [
    "pg_VW = LTIPGReductor(fom, ...)"
   ]
  },
  {
   "cell_type": "code",
   "execution_count": null,
   "metadata": {},
   "outputs": [],
   "source": [
    "rom_pg_VW = pg_VW.reduce()"
   ]
  },
  {
   "cell_type": "markdown",
   "metadata": {},
   "source": [
    "Plot the error as above and check asymptotic stability."
   ]
  },
  {
   "cell_type": "code",
   "execution_count": null,
   "metadata": {},
   "outputs": [],
   "source": []
  },
  {
   "cell_type": "markdown",
   "metadata": {},
   "source": [
    "# Galerkin projection"
   ]
  },
  {
   "cell_type": "markdown",
   "metadata": {},
   "source": [
    "Since $E$ and $A(\\mu)$ in the FOM are respectively positive and negative definite, the same will be true for $V^{\\operatorname{T}} E V$ and $V^{\\operatorname{T}} A(\\mu) V$, for any $V$ of full column rank. Therefore, we can use Galerkin projection to guarantee the preservation of asymptotic stability."
   ]
  },
  {
   "cell_type": "markdown",
   "metadata": {},
   "source": [
    "Concatenate `V` and `W` into a single `VectorArray`."
   ]
  },
  {
   "cell_type": "code",
   "execution_count": null,
   "metadata": {},
   "outputs": [],
   "source": [
    "from pymor.vectorarrays.constructions import cat_arrays"
   ]
  },
  {
   "cell_type": "code",
   "execution_count": null,
   "metadata": {},
   "outputs": [],
   "source": []
  },
  {
   "cell_type": "markdown",
   "metadata": {},
   "source": [
    "Run POD on the new basis."
   ]
  },
  {
   "cell_type": "code",
   "execution_count": null,
   "metadata": {},
   "outputs": [],
   "source": []
  },
  {
   "cell_type": "markdown",
   "metadata": {},
   "source": [
    "Truncate the result from POD (optional) and project the FOm using it."
   ]
  },
  {
   "cell_type": "code",
   "execution_count": null,
   "metadata": {},
   "outputs": [],
   "source": []
  },
  {
   "cell_type": "markdown",
   "metadata": {},
   "source": [
    "Plot the error and check asymptotic stability as before."
   ]
  },
  {
   "cell_type": "code",
   "execution_count": null,
   "metadata": {},
   "outputs": [],
   "source": []
  }
 ],
 "metadata": {
  "kernelspec": {
   "display_name": "Python 3",
   "language": "python",
   "name": "python3"
  },
  "language_info": {
   "codemirror_mode": {
    "name": "ipython",
    "version": 3
   },
   "file_extension": ".py",
   "mimetype": "text/x-python",
   "name": "python",
   "nbconvert_exporter": "python",
   "pygments_lexer": "ipython3",
   "version": "3.6.10"
  }
 },
 "nbformat": 4,
 "nbformat_minor": 4
}
