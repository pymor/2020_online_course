{
 "cells": [
  {
   "cell_type": "markdown",
   "metadata": {},
   "source": [
    "# Imports"
   ]
  },
  {
   "cell_type": "code",
   "execution_count": null,
   "metadata": {},
   "outputs": [],
   "source": [
    "import numpy as np\n",
    "import scipy.linalg as spla\n",
    "import scipy.io as spio\n",
    "import matplotlib.pyplot as plt\n",
    "from matplotlib import colors\n",
    "\n",
    "from pymor.models.iosys import LTIModel\n",
    "from pymor.operators.constructions import LincombOperator\n",
    "from pymor.operators.numpy import NumpyMatrixOperator\n",
    "from pymor.parameters.functionals import ProjectionParameterFunctional"
   ]
  },
  {
   "cell_type": "code",
   "execution_count": null,
   "metadata": {},
   "outputs": [],
   "source": [
    "plt.rcParams['figure.dpi'] = 100\n",
    "plt.rcParams['axes.grid'] = True"
   ]
  },
  {
   "cell_type": "markdown",
   "metadata": {},
   "source": [
    "# Build model"
   ]
  },
  {
   "cell_type": "code",
   "execution_count": null,
   "metadata": {},
   "outputs": [],
   "source": [
    "mat = spio.loadmat('../lectures/data/ABCE.mat')\n",
    "mat.keys()"
   ]
  },
  {
   "cell_type": "code",
   "execution_count": null,
   "metadata": {},
   "outputs": [],
   "source": [
    "A0 = NumpyMatrixOperator(mat['A0'])\n",
    "Amu = NumpyMatrixOperator(sum(0.2 * i * mat[f'A{i}'] for i in range(1, 5)))\n",
    "A = LincombOperator((A0, Amu), (1, ProjectionParameterFunctional('mu', index=0)))\n",
    "B = NumpyMatrixOperator(mat['B'])\n",
    "C = NumpyMatrixOperator(mat['C'])\n",
    "E = NumpyMatrixOperator(mat['E'])"
   ]
  },
  {
   "cell_type": "code",
   "execution_count": null,
   "metadata": {},
   "outputs": [],
   "source": [
    "fom = LTIModel(A, B, C, E=E)"
   ]
  },
  {
   "cell_type": "code",
   "execution_count": null,
   "metadata": {},
   "outputs": [],
   "source": [
    "fom"
   ]
  },
  {
   "cell_type": "code",
   "execution_count": null,
   "metadata": {},
   "outputs": [],
   "source": [
    "print(fom)"
   ]
  },
  {
   "cell_type": "markdown",
   "metadata": {},
   "source": [
    "# Parametric magnitude plot"
   ]
  },
  {
   "cell_type": "code",
   "execution_count": null,
   "metadata": {},
   "outputs": [],
   "source": [
    "w_list = np.logspace(-4, 4, 10)\n",
    "mu_list = np.logspace(-6, 2, 10)\n",
    "tf = np.array([[spla.norm(fom.eval_tf(w * 1j, mu=mu))\n",
    "                for w in w_list]\n",
    "               for mu in mu_list])"
   ]
  },
  {
   "cell_type": "code",
   "execution_count": null,
   "metadata": {},
   "outputs": [],
   "source": [
    "fig, ax = plt.subplots()\n",
    "pcm = ax.pcolormesh(w_list, mu_list, tf, shading='gouraud',\n",
    "                    norm=colors.LogNorm(vmin=tf.min(), vmax=tf.max()))\n",
    "ax.set_xscale('log')\n",
    "ax.set_yscale('log')\n",
    "ax.set_xlabel(r'Frequency $\\omega$')\n",
    "ax.set_ylabel(r'Parameter $\\mu$')\n",
    "ax.set_title(r'$\\Vert H(i \\omega, \\mu) \\Vert$')\n",
    "_ = fig.colorbar(pcm)"
   ]
  },
  {
   "cell_type": "markdown",
   "metadata": {},
   "source": [
    "# Hankel singular values"
   ]
  },
  {
   "cell_type": "code",
   "execution_count": null,
   "metadata": {},
   "outputs": [],
   "source": [
    "mu_list_hsv = np.logspace(-6, 2, 3)\n",
    "hsv_list = [fom.hsv(mu=mu) for mu in mu_list_hsv]"
   ]
  },
  {
   "cell_type": "code",
   "execution_count": null,
   "metadata": {},
   "outputs": [],
   "source": [
    "fig, ax = plt.subplots()\n",
    "for mu, hsv in zip(mu_list_hsv, hsv_list):\n",
    "    ax.semilogy(hsv, '.-', label=fr'$\\mu$ = {mu}')\n",
    "ax.legend()\n",
    "_ = ax.set_title('Hankel singular values')"
   ]
  },
  {
   "cell_type": "markdown",
   "metadata": {},
   "source": [
    "# Balanced truncation"
   ]
  },
  {
   "cell_type": "code",
   "execution_count": null,
   "metadata": {},
   "outputs": [],
   "source": [
    "from pymor.reductors.bt import BTReductor"
   ]
  },
  {
   "cell_type": "code",
   "execution_count": null,
   "metadata": {},
   "outputs": [],
   "source": [
    "bt = BTReductor(fom, mu=1e-2)"
   ]
  },
  {
   "cell_type": "code",
   "execution_count": null,
   "metadata": {
    "scrolled": true
   },
   "outputs": [],
   "source": [
    "rom0 = bt.reduce(10)"
   ]
  },
  {
   "cell_type": "code",
   "execution_count": null,
   "metadata": {},
   "outputs": [],
   "source": [
    "rom0"
   ]
  },
  {
   "cell_type": "code",
   "execution_count": null,
   "metadata": {},
   "outputs": [],
   "source": [
    "from pymor.reductors.basic import LTIPGReductor"
   ]
  },
  {
   "cell_type": "code",
   "execution_count": null,
   "metadata": {},
   "outputs": [],
   "source": [
    "pg = LTIPGReductor(fom, bt.W, bt.V)"
   ]
  },
  {
   "cell_type": "code",
   "execution_count": null,
   "metadata": {},
   "outputs": [],
   "source": [
    "rom_pg = pg.reduce()"
   ]
  },
  {
   "cell_type": "code",
   "execution_count": null,
   "metadata": {},
   "outputs": [],
   "source": [
    "rom_pg"
   ]
  },
  {
   "cell_type": "code",
   "execution_count": null,
   "metadata": {},
   "outputs": [],
   "source": [
    "err_pg = fom - rom_pg"
   ]
  },
  {
   "cell_type": "code",
   "execution_count": null,
   "metadata": {},
   "outputs": [],
   "source": [
    "w_list = np.logspace(-4, 4, 10)\n",
    "mu_list = np.logspace(-6, 2, 10)\n",
    "tf_err_pg = np.array([[spla.norm(err_pg.eval_tf(w * 1j, mu=mu))\n",
    "                    for w in w_list]\n",
    "                   for mu in mu_list])"
   ]
  },
  {
   "cell_type": "code",
   "execution_count": null,
   "metadata": {},
   "outputs": [],
   "source": [
    "fig, ax = plt.subplots()\n",
    "pcm = ax.pcolormesh(w_list, mu_list, tf_err_pg, shading='gouraud',\n",
    "                    norm=colors.LogNorm(vmin=tf_err_pg.min(), vmax=tf_err_pg.max()))\n",
    "ax.set_xscale('log')\n",
    "ax.set_yscale('log')\n",
    "_ = fig.colorbar(pcm)"
   ]
  },
  {
   "cell_type": "code",
   "execution_count": null,
   "metadata": {},
   "outputs": [],
   "source": [
    "fig, ax = plt.subplots()\n",
    "for mu in [1e-6, 1e-2, 1e2]:\n",
    "    poles = rom_pg.poles(mu)\n",
    "    ax.plot(poles.real, poles.imag, '.', label=fr'$\\mu$ = {mu}')\n",
    "ax.set_xscale('symlog')\n",
    "ax.set_yscale('symlog')\n",
    "ax.set_title('Poles of the ROM')\n",
    "_ = ax.legend()"
   ]
  },
  {
   "cell_type": "code",
   "execution_count": null,
   "metadata": {},
   "outputs": [],
   "source": [
    "fig, ax = plt.subplots()\n",
    "mu_list_poles = np.logspace(-6, 2, 200)\n",
    "spectral_abscisa = np.array([rom_pg.poles(mu).real.max() for mu in mu_list_poles])\n",
    "ax.semilogx(mu_list_poles, spectral_abscisa)\n",
    "ax.set_yscale('symlog')\n",
    "ax.set_xlabel('Parameter')\n",
    "_ = ax.set_title('Spectral abscisa (maximum real part of the spectrum)')"
   ]
  },
  {
   "cell_type": "markdown",
   "metadata": {},
   "source": [
    "# Merging local bases"
   ]
  },
  {
   "cell_type": "code",
   "execution_count": null,
   "metadata": {},
   "outputs": [],
   "source": [
    "mu_list_bt = [1e-6, 1e-2, 1e2]\n",
    "V = fom.A.source.empty()\n",
    "W = fom.A.source.empty()\n",
    "for mu in mu_list_bt:\n",
    "    bt_mu = BTReductor(fom, mu=mu)\n",
    "    rom_bt_mu = bt_mu.reduce(10)\n",
    "    V.append(bt_mu.V)\n",
    "    W.append(bt_mu.W)"
   ]
  },
  {
   "cell_type": "code",
   "execution_count": null,
   "metadata": {},
   "outputs": [],
   "source": [
    "from pymor.algorithms.pod import pod"
   ]
  },
  {
   "cell_type": "code",
   "execution_count": null,
   "metadata": {},
   "outputs": [],
   "source": [
    "V_pod, V_sv = pod(V)"
   ]
  },
  {
   "cell_type": "code",
   "execution_count": null,
   "metadata": {},
   "outputs": [],
   "source": [
    "W_pod, W_sv = pod(W)"
   ]
  },
  {
   "cell_type": "code",
   "execution_count": null,
   "metadata": {},
   "outputs": [],
   "source": [
    "_ = plt.semilogy(V_sv, '.-')\n",
    "_ = plt.semilogy(W_sv, '.-')"
   ]
  },
  {
   "cell_type": "code",
   "execution_count": null,
   "metadata": {},
   "outputs": [],
   "source": [
    "V_global = V_pod[:20]\n",
    "W_global = W_pod[:20]"
   ]
  },
  {
   "cell_type": "code",
   "execution_count": null,
   "metadata": {},
   "outputs": [],
   "source": [
    "pg_VW = LTIPGReductor(fom, W_global, V_global)"
   ]
  },
  {
   "cell_type": "code",
   "execution_count": null,
   "metadata": {},
   "outputs": [],
   "source": [
    "rom_pg_VW = pg_VW.reduce()"
   ]
  },
  {
   "cell_type": "code",
   "execution_count": null,
   "metadata": {},
   "outputs": [],
   "source": [
    "rom_pg_VW"
   ]
  },
  {
   "cell_type": "code",
   "execution_count": null,
   "metadata": {},
   "outputs": [],
   "source": [
    "err_pg_VW = fom - rom_pg_VW"
   ]
  },
  {
   "cell_type": "code",
   "execution_count": null,
   "metadata": {},
   "outputs": [],
   "source": [
    "w_list = np.logspace(-4, 4, 10)\n",
    "mu_list = np.logspace(-6, 2, 10)\n",
    "tf_err_pg_VW = np.array([[spla.norm(err_pg_VW.eval_tf(w * 1j, mu=mu))\n",
    "                    for w in w_list]\n",
    "                   for mu in mu_list])"
   ]
  },
  {
   "cell_type": "code",
   "execution_count": null,
   "metadata": {},
   "outputs": [],
   "source": [
    "fig, ax = plt.subplots()\n",
    "pcm = ax.pcolormesh(w_list, mu_list, tf_err_pg_VW, shading='gouraud',\n",
    "                    norm=colors.LogNorm(vmin=tf_err_pg_VW.min(), vmax=tf_err_pg_VW.max()))\n",
    "ax.set_xscale('log')\n",
    "ax.set_yscale('log')\n",
    "_ = fig.colorbar(pcm)"
   ]
  },
  {
   "cell_type": "code",
   "execution_count": null,
   "metadata": {},
   "outputs": [],
   "source": [
    "fig, ax = plt.subplots()\n",
    "for mu in [1e-6, 1e-2, 1e2]:\n",
    "    poles = rom_pg_VW.poles(mu)\n",
    "    ax.plot(poles.real, poles.imag, '.', label=fr'$\\mu$ = {mu}')\n",
    "ax.set_xscale('symlog')\n",
    "ax.set_yscale('symlog')\n",
    "ax.set_title('Poles of the ROM')\n",
    "_ = ax.legend()"
   ]
  },
  {
   "cell_type": "code",
   "execution_count": null,
   "metadata": {},
   "outputs": [],
   "source": [
    "fig, ax = plt.subplots()\n",
    "mu_list_poles = np.logspace(-6, 2, 200)\n",
    "spectral_abscisa = np.array([rom_pg_VW.poles(mu).real.max() for mu in mu_list_poles])\n",
    "ax.semilogx(mu_list_poles, spectral_abscisa)\n",
    "ax.set_yscale('symlog')\n",
    "ax.set_xlabel('Parameter')\n",
    "_ = ax.set_title('Spectral abscisa (maximum real part of the spectrum)')"
   ]
  },
  {
   "cell_type": "markdown",
   "metadata": {},
   "source": [
    "# Galerkin projection"
   ]
  },
  {
   "cell_type": "code",
   "execution_count": null,
   "metadata": {},
   "outputs": [],
   "source": [
    "from pymor.vectorarrays.constructions import cat_arrays"
   ]
  },
  {
   "cell_type": "code",
   "execution_count": null,
   "metadata": {},
   "outputs": [],
   "source": [
    "V_galerkin = cat_arrays([V, W])"
   ]
  },
  {
   "cell_type": "code",
   "execution_count": null,
   "metadata": {},
   "outputs": [],
   "source": [
    "V_galerkin_pod, V_galerkin_sv = pod(V_galerkin)"
   ]
  },
  {
   "cell_type": "code",
   "execution_count": null,
   "metadata": {},
   "outputs": [],
   "source": [
    "_ = plt.semilogy(V_galerkin_sv, '.-')"
   ]
  },
  {
   "cell_type": "code",
   "execution_count": null,
   "metadata": {},
   "outputs": [],
   "source": [
    "Vg = V_galerkin_pod[:50]"
   ]
  },
  {
   "cell_type": "code",
   "execution_count": null,
   "metadata": {},
   "outputs": [],
   "source": [
    "pg_Vg = LTIPGReductor(fom, Vg, Vg)"
   ]
  },
  {
   "cell_type": "code",
   "execution_count": null,
   "metadata": {},
   "outputs": [],
   "source": [
    "rom_pg_Vg = pg_Vg.reduce()"
   ]
  },
  {
   "cell_type": "code",
   "execution_count": null,
   "metadata": {},
   "outputs": [],
   "source": [
    "rom_pg_Vg"
   ]
  },
  {
   "cell_type": "code",
   "execution_count": null,
   "metadata": {},
   "outputs": [],
   "source": [
    "err_pg_Vg = fom - rom_pg_Vg"
   ]
  },
  {
   "cell_type": "code",
   "execution_count": null,
   "metadata": {},
   "outputs": [],
   "source": [
    "w_list = np.logspace(-4, 4, 10)\n",
    "mu_list = np.logspace(-6, 2, 10)\n",
    "tf_err_pg_Vg = np.array([[spla.norm(err_pg_Vg.eval_tf(w * 1j, mu=mu))\n",
    "                    for w in w_list]\n",
    "                   for mu in mu_list])"
   ]
  },
  {
   "cell_type": "code",
   "execution_count": null,
   "metadata": {},
   "outputs": [],
   "source": [
    "fig, ax = plt.subplots()\n",
    "pcm = ax.pcolormesh(w_list, mu_list, tf_err_pg_Vg, shading='gouraud',\n",
    "                    norm=colors.LogNorm(vmin=tf_err_pg_Vg.min(), vmax=tf_err_pg_Vg.max()))\n",
    "ax.set_xscale('log')\n",
    "ax.set_yscale('log')\n",
    "_ = fig.colorbar(pcm)"
   ]
  },
  {
   "cell_type": "code",
   "execution_count": null,
   "metadata": {},
   "outputs": [],
   "source": [
    "fig, ax = plt.subplots()\n",
    "for mu in [1e-6, 1e-2, 1e2]:\n",
    "    poles = rom_pg_Vg.poles(mu)\n",
    "    ax.plot(poles.real, poles.imag, '.', label=fr'$\\mu$ = {mu}')\n",
    "ax.set_xscale('symlog')\n",
    "ax.set_yscale('symlog')\n",
    "ax.set_title('Poles of the ROM')\n",
    "_ = ax.legend()"
   ]
  },
  {
   "cell_type": "code",
   "execution_count": null,
   "metadata": {},
   "outputs": [],
   "source": [
    "fig, ax = plt.subplots()\n",
    "mu_list_poles = np.logspace(-6, 2, 200)\n",
    "spectral_abscisa = np.array([rom_pg_Vg.poles(mu).real.max() for mu in mu_list_poles])\n",
    "ax.semilogx(mu_list_poles, spectral_abscisa)\n",
    "ax.set_yscale('symlog')\n",
    "ax.set_xlabel('Parameter')\n",
    "_ = ax.set_title('Spectral abscisa (maximum real part of the spectrum)')"
   ]
  }
 ],
 "metadata": {
  "kernelspec": {
   "display_name": "Python 3",
   "language": "python",
   "name": "python3"
  },
  "language_info": {
   "codemirror_mode": {
    "name": "ipython",
    "version": 3
   },
   "file_extension": ".py",
   "mimetype": "text/x-python",
   "name": "python",
   "nbconvert_exporter": "python",
   "pygments_lexer": "ipython3",
   "version": "3.6.10"
  }
 },
 "nbformat": 4,
 "nbformat_minor": 4
}
