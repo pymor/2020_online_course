{
 "cells": [
  {
   "cell_type": "markdown",
   "metadata": {},
   "source": [
    "# Imports"
   ]
  },
  {
   "cell_type": "code",
   "execution_count": null,
   "metadata": {},
   "outputs": [],
   "source": [
    "import numpy as np\n",
    "import scipy.linalg as spla\n",
    "import scipy.sparse as sps\n",
    "import matplotlib.pyplot as plt"
   ]
  },
  {
   "cell_type": "code",
   "execution_count": null,
   "metadata": {},
   "outputs": [],
   "source": [
    "plt.rcParams['figure.dpi'] = 100\n",
    "plt.rcParams['axes.grid'] = True"
   ]
  },
  {
   "cell_type": "markdown",
   "metadata": {},
   "source": [
    "# Penzl's FOM model"
   ]
  },
  {
   "cell_type": "markdown",
   "metadata": {},
   "source": [
    "The model is described in [MOR Wiki](https://morwiki.mpi-magdeburg.mpg.de/morwiki/index.php/FOM)."
   ]
  },
  {
   "cell_type": "code",
   "execution_count": null,
   "metadata": {},
   "outputs": [],
   "source": [
    "from pymor.models.iosys import LTIModel"
   ]
  },
  {
   "cell_type": "code",
   "execution_count": null,
   "metadata": {},
   "outputs": [],
   "source": [
    "n = 100\n",
    "A1 = np.array([[-1, 100], [-100, -1]])\n",
    "A2 = np.array([[-1, 200], [-200, -1]])\n",
    "A3 = np.array([[-1, 400], [-400, -1]])\n",
    "A4 = sps.diags(np.arange(-1, -n - 1, -1))\n",
    "A = sps.block_diag([A1, A2, A3, A4], format='csc')\n",
    "B = np.ones((n + 6, 1))\n",
    "B[:6, 0] = 10\n",
    "C = B.T.copy()"
   ]
  },
  {
   "cell_type": "code",
   "execution_count": null,
   "metadata": {},
   "outputs": [],
   "source": [
    "fom = LTIModel.from_matrices(A, B, C)"
   ]
  },
  {
   "cell_type": "markdown",
   "metadata": {},
   "source": [
    "# Bode plot"
   ]
  },
  {
   "cell_type": "markdown",
   "metadata": {},
   "source": [
    "Draw the Bode and/or magnitude plot"
   ]
  },
  {
   "cell_type": "code",
   "execution_count": null,
   "metadata": {},
   "outputs": [],
   "source": []
  },
  {
   "cell_type": "markdown",
   "metadata": {},
   "source": [
    "# Approximation at $\\infty$"
   ]
  },
  {
   "cell_type": "markdown",
   "metadata": {},
   "source": [
    "Perform a Galerkin projection using $\\mathcal{K}_r(A, b)$. Compute the basis matrix using the [Arnoldi iteration](https://en.wikipedia.org/wiki/Arnoldi_iteration#The_Arnoldi_iteration). You will need the following:\n",
    "\n",
    "- `fom.A.source.empty()` to generate the initial empty basis\n",
    "- `fom.B.as_range_array()` to transform the $B$ operator into a `VectorArray`\n",
    "- `norm` method of `VectorArrays`\n",
    "- `scal` method of `VectorArrays`\n",
    "- `append` method of `VectorArrays`\n",
    "- `fom.A.apply` to apply the $A$ operator\n",
    "- `inner` method of `VectorArrays`\n",
    "- `axpy` method of `VectorArrays`"
   ]
  },
  {
   "cell_type": "code",
   "execution_count": null,
   "metadata": {},
   "outputs": [],
   "source": []
  },
  {
   "cell_type": "markdown",
   "metadata": {},
   "source": [
    "# Approximation at $0$"
   ]
  },
  {
   "cell_type": "markdown",
   "metadata": {},
   "source": [
    "Perform a Galerkin projection using $\\mathcal{K}_r(A^{-1}, A^{-1} b)$. As above, use the Arnoldi iteration to generate the basis matrix. You will need to use the `fom.A.apply_inverse` method to solve linear systems involving the $A$ operator."
   ]
  },
  {
   "cell_type": "code",
   "execution_count": null,
   "metadata": {},
   "outputs": [],
   "source": []
  },
  {
   "cell_type": "markdown",
   "metadata": {},
   "source": [
    "# Approximate at the peaks"
   ]
  },
  {
   "cell_type": "markdown",
   "metadata": {},
   "source": [
    "Perform a Galerkin projection to approximate near the peaks ($100 i$, $200 i$, $300 i$) or use the `LTIBHIReductor` to do bitangential Hermite interpolation."
   ]
  },
  {
   "cell_type": "code",
   "execution_count": null,
   "metadata": {},
   "outputs": [],
   "source": []
  }
 ],
 "metadata": {
  "kernelspec": {
   "display_name": "Python 3",
   "language": "python",
   "name": "python3"
  },
  "language_info": {
   "codemirror_mode": {
    "name": "ipython",
    "version": 3
   },
   "file_extension": ".py",
   "mimetype": "text/x-python",
   "name": "python",
   "nbconvert_exporter": "python",
   "pygments_lexer": "ipython3",
   "version": "3.6.10"
  }
 },
 "nbformat": 4,
 "nbformat_minor": 4
}
