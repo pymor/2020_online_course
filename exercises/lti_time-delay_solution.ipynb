{
 "cells": [
  {
   "cell_type": "markdown",
   "metadata": {},
   "source": [
    "# Imports"
   ]
  },
  {
   "cell_type": "code",
   "execution_count": null,
   "metadata": {},
   "outputs": [],
   "source": [
    "import numpy as np\n",
    "import scipy.linalg as spla\n",
    "import scipy.io as spio\n",
    "import scipy.sparse as sps\n",
    "import matplotlib.pyplot as plt"
   ]
  },
  {
   "cell_type": "code",
   "execution_count": null,
   "metadata": {},
   "outputs": [],
   "source": [
    "plt.rcParams['figure.dpi'] = 100\n",
    "plt.rcParams['axes.grid'] = True"
   ]
  },
  {
   "cell_type": "markdown",
   "metadata": {},
   "source": [
    "# Time-delay model"
   ]
  },
  {
   "cell_type": "markdown",
   "metadata": {},
   "source": [
    "$$\n",
    "\\begin{align*}\n",
    "  E \\dot{x}(t) & = A_0 x(t) + A_1 x(t - \\tau) + B u(t) \\\\\n",
    "  y(t) & = C x(t)\n",
    "\\end{align*}\n",
    "$$"
   ]
  },
  {
   "cell_type": "code",
   "execution_count": null,
   "metadata": {},
   "outputs": [],
   "source": [
    "from pymor.models.iosys import LinearDelayModel\n",
    "from pymor.operators.numpy import NumpyMatrixOperator"
   ]
  },
  {
   "cell_type": "code",
   "execution_count": null,
   "metadata": {},
   "outputs": [],
   "source": [
    "mat = spio.loadmat('data/DelayData.mat')\n",
    "mat.keys()"
   ]
  },
  {
   "cell_type": "code",
   "execution_count": null,
   "metadata": {},
   "outputs": [],
   "source": [
    "E = mat['E']\n",
    "A0 = mat['A0']\n",
    "A1 = mat['A1']\n",
    "B = mat['b'].toarray()\n",
    "C = mat['c'].toarray()\n",
    "tau = float(mat['tau'][0, 0])\n",
    "\n",
    "Eop = NumpyMatrixOperator(E)\n",
    "A0op = NumpyMatrixOperator(A0)\n",
    "A1op = NumpyMatrixOperator(A1)\n",
    "Bop = NumpyMatrixOperator(B)\n",
    "Cop = NumpyMatrixOperator(C)"
   ]
  },
  {
   "cell_type": "code",
   "execution_count": null,
   "metadata": {},
   "outputs": [],
   "source": [
    "fom = LinearDelayModel(A0op, (A1op,), (tau,), Bop, Cop, E=Eop)"
   ]
  },
  {
   "cell_type": "markdown",
   "metadata": {},
   "source": [
    "# Bode plot"
   ]
  },
  {
   "cell_type": "markdown",
   "metadata": {},
   "source": [
    "Plot the Bode and/or magnitude plot."
   ]
  },
  {
   "cell_type": "code",
   "execution_count": null,
   "metadata": {},
   "outputs": [],
   "source": [
    "w = np.logspace(-1, 4, 1000)\n",
    "_ = fom.bode_plot(w)"
   ]
  },
  {
   "cell_type": "code",
   "execution_count": null,
   "metadata": {},
   "outputs": [],
   "source": [
    "_ = fom.mag_plot(w)"
   ]
  },
  {
   "cell_type": "markdown",
   "metadata": {},
   "source": [
    "# Transfer function IRKA (TF-IRKA)"
   ]
  },
  {
   "cell_type": "markdown",
   "metadata": {},
   "source": [
    "TF-IRKA is an extension of IRKA where the full-order model can be any real LTI system represented by a transfer function. For interpolation, it uses Loewner matrices, compared to IRKA which uses (tangential) rational Krylov subspaces.\n",
    "\n",
    "In pyMOR, TF-IRKA is implemented in `TFIRKAReductor`, which can take any model with `eval_tf` and `eval_dtf` methods. Currently, those are `LTIModel`, `SecondOrderModel`, `TransferFunction`, and, the one relevant here, `LinearDelayModel`.\n",
    "\n",
    "The resulting reduced-order model will be an `LTIModel`, i.e., it will not preserve the structure of the full-order model.\n",
    "\n",
    "Run TF-IRKA for the `fom` model defined above and draw the Bode/magnitude plots of the full-order model and the reduced-order model."
   ]
  },
  {
   "cell_type": "code",
   "execution_count": null,
   "metadata": {},
   "outputs": [],
   "source": [
    "from pymor.reductors.h2 import TFIRKAReductor"
   ]
  },
  {
   "cell_type": "code",
   "execution_count": null,
   "metadata": {},
   "outputs": [],
   "source": [
    "tfirka = TFIRKAReductor(fom)"
   ]
  },
  {
   "cell_type": "code",
   "execution_count": null,
   "metadata": {
    "scrolled": true
   },
   "outputs": [],
   "source": [
    "rom_tfirka = tfirka.reduce(10)"
   ]
  },
  {
   "cell_type": "code",
   "execution_count": null,
   "metadata": {},
   "outputs": [],
   "source": [
    "fig, ax = plt.subplots()\n",
    "ax.semilogy(tfirka.conv_crit, '.-')\n",
    "ax.set_xlabel('Iteration number')\n",
    "_ = ax.set_title('Convergence criterion')"
   ]
  },
  {
   "cell_type": "code",
   "execution_count": null,
   "metadata": {},
   "outputs": [],
   "source": [
    "fig, ax = plt.subplots()\n",
    "_ = ax.plot(rom_tfirka.poles().real, rom_tfirka.poles().imag, '.')"
   ]
  },
  {
   "cell_type": "code",
   "execution_count": null,
   "metadata": {},
   "outputs": [],
   "source": [
    "err_tfirka = fom - rom_tfirka"
   ]
  },
  {
   "cell_type": "code",
   "execution_count": null,
   "metadata": {},
   "outputs": [],
   "source": [
    "fig, axs = plt.subplots(2, 1, figsize=(6, 8), sharex=True, constrained_layout=True, squeeze=False)\n",
    "fom.bode_plot(w, ax=axs)\n",
    "_ = rom_tfirka.bode_plot(w, ax=axs, linestyle='--')"
   ]
  },
  {
   "cell_type": "code",
   "execution_count": null,
   "metadata": {},
   "outputs": [],
   "source": [
    "_ = err_tfirka.mag_plot(w)"
   ]
  },
  {
   "cell_type": "markdown",
   "metadata": {},
   "source": [
    "# Structure-preserving interpolation"
   ]
  },
  {
   "cell_type": "markdown",
   "metadata": {},
   "source": [
    "The obtain a reduced-order model which is again a `LinearDelayModel`, we can use structure-preserving bitangential Hermite interpolation implemented in `DelayBHIReductor` from `pymor.reductors.interpolation`. Interpolate the full-order model at a few points on the imaginary axis and plot the results."
   ]
  },
  {
   "cell_type": "code",
   "execution_count": null,
   "metadata": {},
   "outputs": [],
   "source": [
    "from pymor.reductors.interpolation import DelayBHIReductor"
   ]
  },
  {
   "cell_type": "code",
   "execution_count": null,
   "metadata": {},
   "outputs": [],
   "source": [
    "interp = DelayBHIReductor(fom)"
   ]
  },
  {
   "cell_type": "code",
   "execution_count": null,
   "metadata": {},
   "outputs": [],
   "source": [
    "sigma = np.concatenate([[1e-3 * 1j], np.logspace(1, 3, 4) * 1j])\n",
    "sigma = np.concatenate([sigma, sigma.conj()])\n",
    "b = fom.B.source.ones(len(sigma))\n",
    "c = fom.B.source.ones(len(sigma))"
   ]
  },
  {
   "cell_type": "code",
   "execution_count": null,
   "metadata": {},
   "outputs": [],
   "source": [
    "rom_interp = interp.reduce(sigma, b, c)"
   ]
  },
  {
   "cell_type": "code",
   "execution_count": null,
   "metadata": {},
   "outputs": [],
   "source": [
    "err_interp = fom - rom_interp"
   ]
  },
  {
   "cell_type": "code",
   "execution_count": null,
   "metadata": {},
   "outputs": [],
   "source": [
    "fig, axs = plt.subplots(2, 1, figsize=(6, 8), sharex=True, constrained_layout=True, squeeze=False)\n",
    "fom.bode_plot(w, ax=axs)\n",
    "_ = rom_interp.bode_plot(w, ax=axs, linestyle='--')"
   ]
  },
  {
   "cell_type": "code",
   "execution_count": null,
   "metadata": {},
   "outputs": [],
   "source": [
    "_ = err_interp.mag_plot(w)"
   ]
  }
 ],
 "metadata": {
  "kernelspec": {
   "display_name": "Python 3",
   "language": "python",
   "name": "python3"
  },
  "language_info": {
   "codemirror_mode": {
    "name": "ipython",
    "version": 3
   },
   "file_extension": ".py",
   "mimetype": "text/x-python",
   "name": "python",
   "nbconvert_exporter": "python",
   "pygments_lexer": "ipython3",
   "version": "3.6.10"
  }
 },
 "nbformat": 4,
 "nbformat_minor": 4
}
