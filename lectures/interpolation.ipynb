{
 "cells": [
  {
   "cell_type": "markdown",
   "metadata": {},
   "source": [
    "# Imports"
   ]
  },
  {
   "cell_type": "code",
   "execution_count": null,
   "metadata": {},
   "outputs": [],
   "source": [
    "import numpy as np\n",
    "import scipy.linalg as spla\n",
    "import scipy.io as spio\n",
    "import matplotlib.pyplot as plt\n",
    "\n",
    "from pymor.models.iosys import LTIModel"
   ]
  },
  {
   "cell_type": "code",
   "execution_count": null,
   "metadata": {},
   "outputs": [],
   "source": [
    "plt.rcParams['figure.dpi'] = 100\n",
    "plt.rcParams['axes.grid'] = True"
   ]
  },
  {
   "cell_type": "markdown",
   "metadata": {},
   "source": [
    "# Build model"
   ]
  },
  {
   "cell_type": "code",
   "execution_count": null,
   "metadata": {},
   "outputs": [],
   "source": [
    "mat = spio.loadmat('data/ABCE.mat')\n",
    "mat.keys()"
   ]
  },
  {
   "cell_type": "code",
   "execution_count": null,
   "metadata": {},
   "outputs": [],
   "source": [
    "mu = np.sqrt(10) * np.array([0.2, 0.4, 0.6, 0.8])\n",
    "A = mat['A0']\n",
    "for i in range(4):\n",
    "    A += mu[i] * mat[f'A{i + 1}']\n",
    "B = mat['B']\n",
    "C = mat['C']\n",
    "E = mat['E']"
   ]
  },
  {
   "cell_type": "code",
   "execution_count": null,
   "metadata": {},
   "outputs": [],
   "source": [
    "fom = LTIModel.from_matrices(A, B, C, E=E)"
   ]
  },
  {
   "cell_type": "code",
   "execution_count": null,
   "metadata": {},
   "outputs": [],
   "source": [
    "fom"
   ]
  },
  {
   "cell_type": "code",
   "execution_count": null,
   "metadata": {},
   "outputs": [],
   "source": [
    "print(fom)"
   ]
  },
  {
   "cell_type": "markdown",
   "metadata": {},
   "source": [
    "# Bode plot"
   ]
  },
  {
   "cell_type": "code",
   "execution_count": null,
   "metadata": {},
   "outputs": [],
   "source": [
    "w = np.logspace(-2, 4, 100)\n",
    "fig, axs = plt.subplots(2, 1, figsize=(6, 8), constrained_layout=True)\n",
    "_ = fom.bode_plot(w, ax=np.array(4 * [[axs[0]], [axs[1]]]))"
   ]
  },
  {
   "cell_type": "code",
   "execution_count": null,
   "metadata": {},
   "outputs": [],
   "source": [
    "_ = fom.mag_plot(w)"
   ]
  },
  {
   "cell_type": "markdown",
   "metadata": {},
   "source": [
    "# $\\mathcal{H}_2$ norm"
   ]
  },
  {
   "cell_type": "code",
   "execution_count": null,
   "metadata": {
    "scrolled": true
   },
   "outputs": [],
   "source": [
    "fom.h2_norm()"
   ]
  },
  {
   "cell_type": "markdown",
   "metadata": {},
   "source": [
    "# Bitangential Hermite interpolation"
   ]
  },
  {
   "cell_type": "markdown",
   "metadata": {},
   "source": [
    "Full-order model:\n",
    "$$\n",
    "\\begin{align*}\n",
    "  E \\dot{x}(t) & = A x(t) + B u(t), \\\\\n",
    "  y(t) & = C x(t).\n",
    "\\end{align*}\n",
    "$$\n",
    "Reduced-order model:\n",
    "$$\n",
    "\\begin{align*}\n",
    "  \\hat{E} \\dot{\\hat{x}}(t) & = \\hat{A} \\hat{x}(t) + \\hat{B} u(t), \\\\\n",
    "  \\hat{y}(t) & = \\hat{C} \\hat{x}(t),\n",
    "\\end{align*}\n",
    "$$\n",
    "where\n",
    "$$\n",
    "\\begin{align*}\n",
    "  \\hat{E} = W^T E V, \\quad\n",
    "  \\hat{A} = W^T A V, \\quad\n",
    "  \\hat{B} = W^T B, \\quad\n",
    "  \\hat{C} = C V.\n",
    "\\end{align*}\n",
    "$$\n",
    "\n",
    "Theorem 1 from [Antoulas/Beattie/Gugercin 2010]:\n",
    "- if $(\\sigma E - A)^{-1} B b \\in \\operatorname{im}(V)$,\n",
    "then $H(\\sigma) b = \\hat{H}(\\sigma) b$\n",
    "- if $(\\sigma E - A)^{-*} C^T c \\in \\operatorname{im}(W)$,\n",
    "then $c^* H(\\sigma) = c^* \\hat{H}(\\sigma)$\n",
    "- if both,\n",
    "then also $c^* H'(\\sigma) b = c^* \\hat{H}'(\\sigma) b$."
   ]
  },
  {
   "cell_type": "code",
   "execution_count": null,
   "metadata": {},
   "outputs": [],
   "source": [
    "from pymor.reductors.interpolation import LTIBHIReductor"
   ]
  },
  {
   "cell_type": "code",
   "execution_count": null,
   "metadata": {},
   "outputs": [],
   "source": [
    "sigma = [10j, -10j]\n",
    "b = np.array([[1], [1]])\n",
    "b = fom.B.source.from_numpy(b)\n",
    "c = np.array([[1, 0, 0, 0], [1, 0, 0, 0]])\n",
    "c = fom.C.range.from_numpy(c)"
   ]
  },
  {
   "cell_type": "code",
   "execution_count": null,
   "metadata": {},
   "outputs": [],
   "source": [
    "interp = LTIBHIReductor(fom)"
   ]
  },
  {
   "cell_type": "code",
   "execution_count": null,
   "metadata": {},
   "outputs": [],
   "source": [
    "rom_interp = interp.reduce(sigma, b, c)"
   ]
  },
  {
   "cell_type": "code",
   "execution_count": null,
   "metadata": {},
   "outputs": [],
   "source": [
    "rom_interp"
   ]
  },
  {
   "cell_type": "code",
   "execution_count": null,
   "metadata": {},
   "outputs": [],
   "source": [
    "print(rom_interp)"
   ]
  },
  {
   "cell_type": "code",
   "execution_count": null,
   "metadata": {},
   "outputs": [],
   "source": [
    "fom.eval_tf(10j)"
   ]
  },
  {
   "cell_type": "code",
   "execution_count": null,
   "metadata": {},
   "outputs": [],
   "source": [
    "rom_interp.eval_tf(10j)"
   ]
  },
  {
   "cell_type": "code",
   "execution_count": null,
   "metadata": {},
   "outputs": [],
   "source": [
    "fom.eval_tf(10j) - rom_interp.eval_tf(10j)"
   ]
  },
  {
   "cell_type": "code",
   "execution_count": null,
   "metadata": {},
   "outputs": [],
   "source": [
    "fom.eval_dtf(10j)"
   ]
  },
  {
   "cell_type": "code",
   "execution_count": null,
   "metadata": {},
   "outputs": [],
   "source": [
    "fom.eval_dtf(10j) - rom_interp.eval_dtf(10j)"
   ]
  },
  {
   "cell_type": "code",
   "execution_count": null,
   "metadata": {},
   "outputs": [],
   "source": [
    "err_interp = fom - rom_interp"
   ]
  },
  {
   "cell_type": "code",
   "execution_count": null,
   "metadata": {},
   "outputs": [],
   "source": [
    "fig, axs = plt.subplots(2, 1, figsize=(6, 8), constrained_layout=True)\n",
    "_ = err_interp.bode_plot(w, ax=np.array(4 * [[axs[0]], [axs[1]]]))"
   ]
  },
  {
   "cell_type": "code",
   "execution_count": null,
   "metadata": {},
   "outputs": [],
   "source": [
    "_ = err_interp.mag_plot(w)"
   ]
  },
  {
   "cell_type": "code",
   "execution_count": null,
   "metadata": {},
   "outputs": [],
   "source": [
    "err_interp.h2_norm() / fom.h2_norm()"
   ]
  },
  {
   "cell_type": "markdown",
   "metadata": {},
   "source": [
    "# Iterative rational Krylov algorithm"
   ]
  },
  {
   "cell_type": "markdown",
   "metadata": {},
   "source": [
    "Interpolatory necessary conditions for $\\mathcal{H}_2$-optimality\n",
    "[Meier/Luenberger 1967, Antoulas/Beattie/Gugercin 2006/2008/2010]:\n",
    "If $\\hat{H}(s) = \\sum_{i = 1}^r \\frac{c_i b_i^*}{s - \\lambda_i}$ is an\n",
    "$\\mathcal{H}_2$-optimal ROM for $H$,\n",
    "then\n",
    "$$\n",
    "\\begin{align*}\n",
    "  H(-\\overline{\\lambda_i}) b_i\n",
    "  & = \\hat{H}(-\\overline{\\lambda_i}) b_i, \\\\\n",
    "  c_i^* H(-\\overline{\\lambda_i})\n",
    "  & = c_i^* \\hat{H}(-\\overline{\\lambda_i}), \\\\\n",
    "  c_i^* H'(-\\overline{\\lambda_i}) b_i\n",
    "  & = c_i^* \\hat{H}'(-\\overline{\\lambda_i}) b_i.\n",
    "\\end{align*}\n",
    "$$"
   ]
  },
  {
   "cell_type": "code",
   "execution_count": null,
   "metadata": {},
   "outputs": [],
   "source": [
    "from pymor.reductors.h2 import IRKAReductor"
   ]
  },
  {
   "cell_type": "code",
   "execution_count": null,
   "metadata": {},
   "outputs": [],
   "source": [
    "irka = IRKAReductor(fom)"
   ]
  },
  {
   "cell_type": "code",
   "execution_count": null,
   "metadata": {
    "scrolled": true
   },
   "outputs": [],
   "source": [
    "rom_irka = irka.reduce(10)"
   ]
  },
  {
   "cell_type": "code",
   "execution_count": null,
   "metadata": {},
   "outputs": [],
   "source": [
    "_ = plt.semilogy(irka.conv_crit, '.-')"
   ]
  },
  {
   "cell_type": "code",
   "execution_count": null,
   "metadata": {},
   "outputs": [],
   "source": [
    "irka_poles = rom_irka.poles()\n",
    "_ = plt.plot(irka_poles.real, irka_poles.imag, '.')"
   ]
  },
  {
   "cell_type": "code",
   "execution_count": null,
   "metadata": {},
   "outputs": [],
   "source": [
    "err_irka = fom - rom_irka"
   ]
  },
  {
   "cell_type": "code",
   "execution_count": null,
   "metadata": {},
   "outputs": [],
   "source": [
    "fig, axs = plt.subplots(2, 1, figsize=(6, 8), constrained_layout=True)\n",
    "_ = err_irka.bode_plot(w, ax=np.array(4 * [[axs[0]], [axs[1]]]))"
   ]
  },
  {
   "cell_type": "code",
   "execution_count": null,
   "metadata": {},
   "outputs": [],
   "source": [
    "_ = err_irka.mag_plot(w)"
   ]
  },
  {
   "cell_type": "code",
   "execution_count": null,
   "metadata": {
    "scrolled": true
   },
   "outputs": [],
   "source": [
    "err_irka.h2_norm() / fom.h2_norm()"
   ]
  },
  {
   "cell_type": "markdown",
   "metadata": {},
   "source": [
    "# Comparison with balanced truncation"
   ]
  },
  {
   "cell_type": "code",
   "execution_count": null,
   "metadata": {},
   "outputs": [],
   "source": [
    "from pymor.reductors.bt import BTReductor"
   ]
  },
  {
   "cell_type": "code",
   "execution_count": null,
   "metadata": {},
   "outputs": [],
   "source": [
    "bt = BTReductor(fom)\n",
    "rom_bt = bt.reduce(10)\n",
    "err_bt = fom - rom_bt"
   ]
  },
  {
   "cell_type": "code",
   "execution_count": null,
   "metadata": {
    "scrolled": true
   },
   "outputs": [],
   "source": [
    "err_bt.h2_norm() / fom.h2_norm()"
   ]
  }
 ],
 "metadata": {
  "kernelspec": {
   "display_name": "Python 3",
   "language": "python",
   "name": "python3"
  },
  "language_info": {
   "codemirror_mode": {
    "name": "ipython",
    "version": 3
   },
   "file_extension": ".py",
   "mimetype": "text/x-python",
   "name": "python",
   "nbconvert_exporter": "python",
   "pygments_lexer": "ipython3",
   "version": "3.6.10"
  }
 },
 "nbformat": 4,
 "nbformat_minor": 4
}
