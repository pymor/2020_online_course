{
 "cells": [
  {
   "cell_type": "markdown",
   "metadata": {},
   "source": [
    "# Imports"
   ]
  },
  {
   "cell_type": "code",
   "execution_count": null,
   "metadata": {},
   "outputs": [],
   "source": [
    "import numpy as np\n",
    "import scipy.linalg as spla\n",
    "import scipy.io as spio\n",
    "import matplotlib.pyplot as plt\n",
    "\n",
    "from pymor.models.iosys import LTIModel"
   ]
  },
  {
   "cell_type": "code",
   "execution_count": null,
   "metadata": {},
   "outputs": [],
   "source": [
    "plt.rcParams['figure.dpi'] = 100\n",
    "plt.rcParams['axes.grid'] = True"
   ]
  },
  {
   "cell_type": "markdown",
   "metadata": {},
   "source": [
    "# Build model"
   ]
  },
  {
   "cell_type": "code",
   "execution_count": null,
   "metadata": {},
   "outputs": [],
   "source": [
    "mat = spio.loadmat('data/ABCE.mat')\n",
    "mat.keys()"
   ]
  },
  {
   "cell_type": "code",
   "execution_count": null,
   "metadata": {},
   "outputs": [],
   "source": [
    "mu = np.sqrt(10) * np.array([0.2, 0.4, 0.6, 0.8])\n",
    "A = mat['A0']\n",
    "for i in range(4):\n",
    "    A += mu[i] * mat[f'A{i + 1}']\n",
    "B = mat['B']\n",
    "C = mat['C']\n",
    "E = mat['E']"
   ]
  },
  {
   "cell_type": "code",
   "execution_count": null,
   "metadata": {},
   "outputs": [],
   "source": [
    "fom = LTIModel.from_matrices(A, B, C, E=E)"
   ]
  },
  {
   "cell_type": "code",
   "execution_count": null,
   "metadata": {},
   "outputs": [],
   "source": [
    "fom"
   ]
  },
  {
   "cell_type": "code",
   "execution_count": null,
   "metadata": {},
   "outputs": [],
   "source": [
    "print(fom)"
   ]
  },
  {
   "cell_type": "markdown",
   "metadata": {},
   "source": [
    "# Bode plot"
   ]
  },
  {
   "cell_type": "code",
   "execution_count": null,
   "metadata": {},
   "outputs": [],
   "source": [
    "w = np.logspace(-2, 4, 100)\n",
    "fig, axs = plt.subplots(2, 1, figsize=(6, 8), constrained_layout=True)\n",
    "_ = fom.bode_plot(w, ax=np.array(4 * [[axs[0]], [axs[1]]]))"
   ]
  },
  {
   "cell_type": "code",
   "execution_count": null,
   "metadata": {},
   "outputs": [],
   "source": [
    "_ = fom.mag_plot(w)"
   ]
  },
  {
   "cell_type": "markdown",
   "metadata": {},
   "source": [
    "# $\\mathcal{H}_2$ norm"
   ]
  },
  {
   "cell_type": "markdown",
   "metadata": {},
   "source": [
    "$$\n",
    "\\newcommand{\\tran}{^{\\operatorname{T}}}\n",
    "\\begin{align*}\n",
    "  A P E\\tran\n",
    "  + E P A\\tran\n",
    "  + B B\\tran\n",
    "  & = 0 \\\\\n",
    "  A\\tran Q E\n",
    "  + E\\tran Q A\n",
    "  + C\\tran C\n",
    "  & = 0\n",
    "\\end{align*}\n",
    "$$\n",
    "\n",
    "$$\n",
    "\\Vert H \\Vert_{\\mathcal{H}_2}^2\n",
    "= \\operatorname{tr}\\left(C P C\\tran\\right)\n",
    "= \\operatorname{tr}\\left(B\\tran Q B\\right)\n",
    "$$"
   ]
  },
  {
   "cell_type": "code",
   "execution_count": null,
   "metadata": {
    "scrolled": true
   },
   "outputs": [],
   "source": [
    "fom.h2_norm()"
   ]
  },
  {
   "cell_type": "markdown",
   "metadata": {},
   "source": [
    "# Bitangential Hermite interpolation"
   ]
  },
  {
   "cell_type": "markdown",
   "metadata": {},
   "source": [
    "Full-order model:\n",
    "$$\n",
    "\\begin{align*}\n",
    "  E \\dot{x}(t) & = A x(t) + B u(t), \\\\\n",
    "  y(t) & = C x(t).\n",
    "\\end{align*}\n",
    "$$"
   ]
  },
  {
   "cell_type": "markdown",
   "metadata": {},
   "source": [
    "Reduced-order model:\n",
    "$$\n",
    "\\begin{align*}\n",
    "  \\hat{E} \\dot{\\hat{x}}(t) & = \\hat{A} \\hat{x}(t) + \\hat{B} u(t), \\\\\n",
    "  \\hat{y}(t) & = \\hat{C} \\hat{x}(t),\n",
    "\\end{align*}\n",
    "$$\n",
    "where\n",
    "$$\n",
    "\\begin{align*}\n",
    "  \\hat{E} = W\\tran E V, \\quad\n",
    "  \\hat{A} = W\\tran A V, \\quad\n",
    "  \\hat{B} = W\\tran B, \\quad\n",
    "  \\hat{C} = C V.\n",
    "\\end{align*}\n",
    "$$"
   ]
  },
  {
   "cell_type": "markdown",
   "metadata": {},
   "source": [
    "Transfer functions:\n",
    "$$\n",
    "\\begin{align*}\n",
    "  H(s) & = C (s E - A)^{-1} B, \\\\\n",
    "  \\hat{H}(s) & = \\hat{C} \\left(s \\hat{E} - \\hat{A}\\right)^{-1} \\hat{B}.\n",
    "\\end{align*}\n",
    "$$"
   ]
  },
  {
   "cell_type": "markdown",
   "metadata": {},
   "source": [
    "Theorem 1 from [Antoulas/Beattie/Gugercin 2010]:\n",
    "$$\n",
    "\\begin{align*}\n",
    "  (\\sigma E - A)^{-1} B b \\in \\operatorname{im}(V)\n",
    "  & \\quad \\Rightarrow \\quad\n",
    "  H(\\sigma) b = \\hat{H}(\\sigma) b, \\\\\n",
    "  (\\sigma E - A)^{-*} C^{\\operatorname{T}} c \\in \\operatorname{im}(W)\n",
    "  & \\quad \\Rightarrow \\quad\n",
    "  c^* H(\\sigma) = c^* \\hat{H}(\\sigma), \\\\\n",
    "  \\text{both}\n",
    "  & \\quad \\Rightarrow \\quad\n",
    "  c^* H'(\\sigma) b = c^* \\hat{H}'(\\sigma) b.\n",
    "\\end{align*}\n",
    "$$"
   ]
  },
  {
   "cell_type": "code",
   "execution_count": null,
   "metadata": {},
   "outputs": [],
   "source": [
    "from pymor.reductors.interpolation import LTIBHIReductor"
   ]
  },
  {
   "cell_type": "code",
   "execution_count": null,
   "metadata": {},
   "outputs": [],
   "source": [
    "sigma = [10j, -10j]\n",
    "b = np.array([[1], [1]])\n",
    "b = fom.B.source.from_numpy(b)\n",
    "c = np.array([[1, 0, 0, 0], [1, 0, 0, 0]])\n",
    "c = fom.C.range.from_numpy(c)"
   ]
  },
  {
   "cell_type": "code",
   "execution_count": null,
   "metadata": {},
   "outputs": [],
   "source": [
    "interp = LTIBHIReductor(fom)"
   ]
  },
  {
   "cell_type": "code",
   "execution_count": null,
   "metadata": {},
   "outputs": [],
   "source": [
    "rom_interp = interp.reduce(sigma, b, c)"
   ]
  },
  {
   "cell_type": "code",
   "execution_count": null,
   "metadata": {},
   "outputs": [],
   "source": [
    "rom_interp"
   ]
  },
  {
   "cell_type": "code",
   "execution_count": null,
   "metadata": {},
   "outputs": [],
   "source": [
    "print(rom_interp)"
   ]
  },
  {
   "cell_type": "code",
   "execution_count": null,
   "metadata": {},
   "outputs": [],
   "source": [
    "fom.eval_tf(10j)"
   ]
  },
  {
   "cell_type": "code",
   "execution_count": null,
   "metadata": {},
   "outputs": [],
   "source": [
    "rom_interp.eval_tf(10j)"
   ]
  },
  {
   "cell_type": "code",
   "execution_count": null,
   "metadata": {},
   "outputs": [],
   "source": [
    "fom.eval_tf(10j) - rom_interp.eval_tf(10j)"
   ]
  },
  {
   "cell_type": "code",
   "execution_count": null,
   "metadata": {},
   "outputs": [],
   "source": [
    "fom.eval_dtf(10j)"
   ]
  },
  {
   "cell_type": "code",
   "execution_count": null,
   "metadata": {},
   "outputs": [],
   "source": [
    "fom.eval_dtf(10j) - rom_interp.eval_dtf(10j)"
   ]
  },
  {
   "cell_type": "code",
   "execution_count": null,
   "metadata": {},
   "outputs": [],
   "source": [
    "err_interp = fom - rom_interp"
   ]
  },
  {
   "cell_type": "code",
   "execution_count": null,
   "metadata": {},
   "outputs": [],
   "source": [
    "fig, axs = plt.subplots(2, 1, figsize=(6, 8), constrained_layout=True)\n",
    "_ = err_interp.bode_plot(w, ax=np.array(4 * [[axs[0]], [axs[1]]]))"
   ]
  },
  {
   "cell_type": "code",
   "execution_count": null,
   "metadata": {},
   "outputs": [],
   "source": [
    "_ = err_interp.mag_plot(w)"
   ]
  },
  {
   "cell_type": "code",
   "execution_count": null,
   "metadata": {},
   "outputs": [],
   "source": [
    "err_interp.h2_norm() / fom.h2_norm()"
   ]
  },
  {
   "cell_type": "markdown",
   "metadata": {},
   "source": [
    "# Iterative rational Krylov algorithm (IRKA)"
   ]
  },
  {
   "cell_type": "markdown",
   "metadata": {},
   "source": [
    "Interpolatory necessary conditions for $\\mathcal{H}_2$-optimality\n",
    "[Meier/Luenberger 1967, Antoulas/Beattie/Gugercin 2006/2008/2010]:\n",
    "If $\\hat{H}(s) = \\sum_{i = 1}^r \\frac{c_i b_i^*}{s - \\lambda_i}$ is an\n",
    "$\\mathcal{H}_2$-optimal ROM for $H$,\n",
    "then\n",
    "$$\n",
    "\\begin{align*}\n",
    "  H(-\\overline{\\lambda_i}) b_i\n",
    "  & = \\hat{H}(-\\overline{\\lambda_i}) b_i, \\\\\n",
    "  c_i^* H(-\\overline{\\lambda_i})\n",
    "  & = c_i^* \\hat{H}(-\\overline{\\lambda_i}), \\\\\n",
    "  c_i^* H'(-\\overline{\\lambda_i}) b_i\n",
    "  & = c_i^* \\hat{H}'(-\\overline{\\lambda_i}) b_i.\n",
    "\\end{align*}\n",
    "$$"
   ]
  },
  {
   "cell_type": "code",
   "execution_count": null,
   "metadata": {},
   "outputs": [],
   "source": [
    "from pymor.reductors.h2 import IRKAReductor"
   ]
  },
  {
   "cell_type": "code",
   "execution_count": null,
   "metadata": {},
   "outputs": [],
   "source": [
    "irka = IRKAReductor(fom)"
   ]
  },
  {
   "cell_type": "code",
   "execution_count": null,
   "metadata": {
    "scrolled": true
   },
   "outputs": [],
   "source": [
    "rom_irka = irka.reduce(10)"
   ]
  },
  {
   "cell_type": "code",
   "execution_count": null,
   "metadata": {},
   "outputs": [],
   "source": [
    "fig, ax = plt.subplots()\n",
    "ax.semilogy(irka.conv_crit, '.-')\n",
    "ax.set_xlabel('Iteration number')\n",
    "_ = ax.set_title('Convergence criterion')"
   ]
  },
  {
   "cell_type": "code",
   "execution_count": null,
   "metadata": {},
   "outputs": [],
   "source": [
    "from matplotlib import animation"
   ]
  },
  {
   "cell_type": "code",
   "execution_count": null,
   "metadata": {},
   "outputs": [],
   "source": [
    "plt.rcParams['animation.html'] = 'jshtml'"
   ]
  },
  {
   "cell_type": "code",
   "execution_count": null,
   "metadata": {},
   "outputs": [],
   "source": [
    "fig, ax = plt.subplots()\n",
    "\n",
    "sigmas = np.concatenate(irka.sigma_list)\n",
    "s_re_min = sigmas.real.min()\n",
    "s_re_max = sigmas.real.max()\n",
    "s_im_max = sigmas.imag.max()\n",
    "\n",
    "ax.set_xlim((s_re_min, s_re_max))\n",
    "ax.set_ylim((-s_im_max, s_im_max))\n",
    "ax.set_xscale('symlog')\n",
    "ax.set_yscale('symlog')\n",
    "\n",
    "line, = ax.plot([], [], '.')"
   ]
  },
  {
   "cell_type": "code",
   "execution_count": null,
   "metadata": {},
   "outputs": [],
   "source": [
    "def init():\n",
    "    line.set_data([], [])\n",
    "    return (line,)\n",
    "\n",
    "def animate(i):\n",
    "    ax.set_title(f'Iteration {i + 1}')\n",
    "    line.set_data(irka.sigma_list[i].real, irka.sigma_list[i].imag)\n",
    "    return (line,)\n",
    "\n",
    "anim = animation.FuncAnimation(fig, animate, init_func=init,\n",
    "                               frames=len(irka.sigma_list), interval=500, blit=True)\n",
    "\n",
    "anim"
   ]
  },
  {
   "cell_type": "code",
   "execution_count": null,
   "metadata": {},
   "outputs": [],
   "source": [
    "irka_poles = rom_irka.poles()\n",
    "_ = plt.plot(irka_poles.real, irka_poles.imag, '.')"
   ]
  },
  {
   "cell_type": "code",
   "execution_count": null,
   "metadata": {},
   "outputs": [],
   "source": [
    "err_irka = fom - rom_irka"
   ]
  },
  {
   "cell_type": "code",
   "execution_count": null,
   "metadata": {},
   "outputs": [],
   "source": [
    "fig, axs = plt.subplots(2, 1, figsize=(6, 8), constrained_layout=True)\n",
    "_ = err_irka.bode_plot(w, ax=np.array(4 * [[axs[0]], [axs[1]]]))"
   ]
  },
  {
   "cell_type": "code",
   "execution_count": null,
   "metadata": {},
   "outputs": [],
   "source": [
    "_ = err_irka.mag_plot(w)"
   ]
  },
  {
   "cell_type": "code",
   "execution_count": null,
   "metadata": {
    "scrolled": true
   },
   "outputs": [],
   "source": [
    "err_irka.h2_norm() / fom.h2_norm()"
   ]
  },
  {
   "cell_type": "markdown",
   "metadata": {},
   "source": [
    "# Two-sided iteration algorithm (TSIA)"
   ]
  },
  {
   "cell_type": "markdown",
   "metadata": {},
   "source": [
    "Gramian-based necessary conditions for $\\mathcal{H}_2$-optimality [Wilson 1960]:\n",
    "$$\n",
    "\\begin{align*}\n",
    "  \\hat{Q} \\hat{E} \\hat{P} & = Y\\tran E X, \\\\\n",
    "  \\hat{Q} \\hat{A} \\hat{P} & = Y\\tran A X, \\\\\n",
    "  \\hat{Q} \\hat{B} & = Y\\tran B, \\\\\n",
    "  \\hat{C} \\hat{P} & = C X,\n",
    "\\end{align*}\n",
    "$$\n",
    "where\n",
    "$$\n",
    "\\begin{align*}\n",
    "  A X \\hat{E}\\tran\n",
    "  + E X \\hat{A}\\tran\n",
    "  + B \\hat{B}\\tran\n",
    "  & = 0, \\\\\n",
    "  A\\tran Y \\hat{E}\n",
    "  + E\\tran Y \\hat{A}\n",
    "  + C\\tran \\hat{C}\n",
    "  & = 0, \\\\\n",
    "  \\hat{A} \\hat{P} \\hat{E}\\tran\n",
    "  + \\hat{E} \\hat{P} \\hat{A}\\tran\n",
    "  + \\hat{B} \\hat{B}\\tran\n",
    "  & = 0, \\\\\n",
    "  \\hat{A}\\tran \\hat{Q} \\hat{E}\n",
    "  + \\hat{E}\\tran \\hat{Q} \\hat{A}\n",
    "  + \\hat{C}\\tran \\hat{C}\n",
    "  & = 0.\n",
    "\\end{align*}\n",
    "$$"
   ]
  },
  {
   "cell_type": "code",
   "execution_count": null,
   "metadata": {},
   "outputs": [],
   "source": [
    "from pymor.reductors.h2 import TSIAReductor"
   ]
  },
  {
   "cell_type": "code",
   "execution_count": null,
   "metadata": {},
   "outputs": [],
   "source": [
    "tsia = TSIAReductor(fom)"
   ]
  },
  {
   "cell_type": "code",
   "execution_count": null,
   "metadata": {
    "scrolled": true
   },
   "outputs": [],
   "source": [
    "rom_tsia = tsia.reduce(10)"
   ]
  },
  {
   "cell_type": "code",
   "execution_count": null,
   "metadata": {},
   "outputs": [],
   "source": [
    "fig, ax = plt.subplots()\n",
    "ax.semilogy(tsia.conv_crit, '.-')\n",
    "ax.set_xlabel('Iteration number')\n",
    "_ = ax.set_title('Convergence criterion')"
   ]
  },
  {
   "cell_type": "code",
   "execution_count": null,
   "metadata": {},
   "outputs": [],
   "source": [
    "tsia_poles = rom_tsia.poles()\n",
    "_ = plt.plot(tsia_poles.real, tsia_poles.imag, '.')"
   ]
  },
  {
   "cell_type": "code",
   "execution_count": null,
   "metadata": {},
   "outputs": [],
   "source": [
    "err_tsia = fom - rom_tsia"
   ]
  },
  {
   "cell_type": "code",
   "execution_count": null,
   "metadata": {},
   "outputs": [],
   "source": [
    "fig, axs = plt.subplots(2, 1, figsize=(6, 8), constrained_layout=True)\n",
    "_ = err_tsia.bode_plot(w, ax=np.array(4 * [[axs[0]], [axs[1]]]))"
   ]
  },
  {
   "cell_type": "code",
   "execution_count": null,
   "metadata": {},
   "outputs": [],
   "source": [
    "_ = err_tsia.mag_plot(w)"
   ]
  },
  {
   "cell_type": "code",
   "execution_count": null,
   "metadata": {
    "scrolled": true
   },
   "outputs": [],
   "source": [
    "err_tsia.h2_norm() / fom.h2_norm()"
   ]
  },
  {
   "cell_type": "markdown",
   "metadata": {},
   "source": [
    "# Comparison with balanced truncation"
   ]
  },
  {
   "cell_type": "code",
   "execution_count": null,
   "metadata": {},
   "outputs": [],
   "source": [
    "from pymor.reductors.bt import BTReductor"
   ]
  },
  {
   "cell_type": "code",
   "execution_count": null,
   "metadata": {
    "scrolled": true
   },
   "outputs": [],
   "source": [
    "bt = BTReductor(fom)\n",
    "rom_bt = bt.reduce(10)\n",
    "err_bt = fom - rom_bt"
   ]
  },
  {
   "cell_type": "code",
   "execution_count": null,
   "metadata": {
    "scrolled": true
   },
   "outputs": [],
   "source": [
    "err_bt.h2_norm() / fom.h2_norm()"
   ]
  },
  {
   "cell_type": "markdown",
   "metadata": {},
   "source": [
    "# Related methods"
   ]
  },
  {
   "cell_type": "markdown",
   "metadata": {},
   "source": [
    "- Structure-preserving interpolation:\n",
    "  - second-order models (`SOBHIReductor`)\n",
    "  \\begin{align*}\n",
    "    &\n",
    "    \\left\\{\n",
    "    \\begin{aligned}\n",
    "      M \\ddot{x}(t) + E \\dot{x}(t) + K x(t) & = B u(t), \\\\\n",
    "      y(t) & = C_p x(t) + C_v \\dot{x}(t)\n",
    "    \\end{aligned}\n",
    "    \\right. \\\\\n",
    "    &\n",
    "    H(s) = (C_p + s C_v) \\left(s^2 M + s E + K\\right)^{-1} B\n",
    "  \\end{align*}\n",
    "  - time-delay models (`DelayBHIReductor`)\n",
    "  \\begin{align*}\n",
    "    &\n",
    "    \\left\\{\n",
    "    \\begin{aligned}\n",
    "      E \\dot{x}(t) & = A_0 x(t) + A_\\tau x(t - \\tau) + B u(t), \\\\\n",
    "      y(t) & = C x(t)\n",
    "    \\end{aligned}\n",
    "    \\right. \\\\\n",
    "    &\n",
    "    H(s) = C \\left(s E - A_0 - e^{-\\tau s} A_\\tau\\right)^{-1} B\n",
    "  \\end{align*}\n",
    "- Transfer function approach using Loewner matrices (`TFBHIReductor`)\n",
    "- Symmetry-preserving IRKA (`OneSidedIRKAReductor`)\n",
    "- IRKA-type method for second-order models (`SORIRKAReductor`)\n",
    "- Transfer function IRKA (`TFIRKAReductor`)"
   ]
  }
 ],
 "metadata": {
  "kernelspec": {
   "display_name": "Python 3",
   "language": "python",
   "name": "python3"
  },
  "language_info": {
   "codemirror_mode": {
    "name": "ipython",
    "version": 3
   },
   "file_extension": ".py",
   "mimetype": "text/x-python",
   "name": "python",
   "nbconvert_exporter": "python",
   "pygments_lexer": "ipython3",
   "version": "3.6.10"
  }
 },
 "nbformat": 4,
 "nbformat_minor": 4
}
