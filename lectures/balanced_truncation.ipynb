{
 "cells": [
  {
   "cell_type": "markdown",
   "metadata": {},
   "source": [
    "# Imports"
   ]
  },
  {
   "cell_type": "code",
   "execution_count": null,
   "metadata": {},
   "outputs": [],
   "source": [
    "import numpy as np\n",
    "import scipy.linalg as spla\n",
    "import scipy.io as spio\n",
    "import matplotlib.pyplot as plt\n",
    "\n",
    "from pymor.models.iosys import LTIModel"
   ]
  },
  {
   "cell_type": "code",
   "execution_count": null,
   "metadata": {},
   "outputs": [],
   "source": [
    "plt.rcParams['figure.dpi'] = 100\n",
    "plt.rcParams['axes.grid'] = True"
   ]
  },
  {
   "cell_type": "markdown",
   "metadata": {},
   "source": [
    "# Build model"
   ]
  },
  {
   "cell_type": "markdown",
   "metadata": {},
   "source": [
    "Consider the $2 \\times 2$ thermal block problem in the state-space representation\n",
    "\n",
    "\\begin{align}\n",
    "E \\dot{x}(t) &= A x(t) + B u(t), \\\\\n",
    "y(t) &= C x(t),\n",
    "\\end{align}\n",
    "\n",
    "with $A, E \\in \\mathbb{R}^{7488 \\times 7488}$, $B \\in \\mathbb{R}^{7488 \\times 1}$ and $C \\in \\mathbb{R}^{4 \\times 7488}$. "
   ]
  },
  {
   "cell_type": "code",
   "execution_count": null,
   "metadata": {},
   "outputs": [],
   "source": [
    "mat = spio.loadmat('data/ABCE.mat')\n",
    "mat.keys()"
   ]
  },
  {
   "cell_type": "code",
   "execution_count": null,
   "metadata": {},
   "outputs": [],
   "source": [
    "mu = np.sqrt(10) * np.array([0.2, 0.4, 0.6, 0.8])\n",
    "A = mat['A0']\n",
    "for i in range(4):\n",
    "    A += mu[i] * mat[f'A{i + 1}']\n",
    "B = mat['B']\n",
    "C = mat['C']\n",
    "E = mat['E']"
   ]
  },
  {
   "cell_type": "code",
   "execution_count": null,
   "metadata": {},
   "outputs": [],
   "source": [
    "fom = LTIModel.from_matrices(A, B, C, E=E)"
   ]
  },
  {
   "cell_type": "code",
   "execution_count": null,
   "metadata": {},
   "outputs": [],
   "source": [
    "fom"
   ]
  },
  {
   "cell_type": "code",
   "execution_count": null,
   "metadata": {},
   "outputs": [],
   "source": [
    "print(fom)"
   ]
  },
  {
   "cell_type": "markdown",
   "metadata": {},
   "source": [
    "# Bode plot"
   ]
  },
  {
   "cell_type": "code",
   "execution_count": null,
   "metadata": {},
   "outputs": [],
   "source": [
    "w = np.logspace(-2, 4, 100)\n",
    "fig, axs = plt.subplots(2, 1, figsize=(6, 8), constrained_layout=True)\n",
    "_ = fom.bode_plot(w, ax=np.array(4 * [[axs[0]], [axs[1]]]))"
   ]
  },
  {
   "cell_type": "code",
   "execution_count": null,
   "metadata": {},
   "outputs": [],
   "source": [
    "_ = fom.mag_plot(w)"
   ]
  },
  {
   "cell_type": "markdown",
   "metadata": {},
   "source": [
    "# Hankel singular values"
   ]
  },
  {
   "cell_type": "code",
   "execution_count": null,
   "metadata": {
    "scrolled": true
   },
   "outputs": [],
   "source": [
    "hsv = fom.hsv()"
   ]
  },
  {
   "cell_type": "code",
   "execution_count": null,
   "metadata": {},
   "outputs": [],
   "source": [
    "fig, ax = plt.subplots()\n",
    "_ = ax.semilogy(range(1, len(hsv) + 1), hsv, '.-')"
   ]
  },
  {
   "cell_type": "markdown",
   "metadata": {},
   "source": [
    "# Balanced truncation"
   ]
  },
  {
   "cell_type": "markdown",
   "metadata": {},
   "source": [
    "Solving the Lyapunov equations\n",
    "\n",
    "\\begin{align}\n",
    "    A \\mathcal{P} E^{\\operatorname{T}} + E \\mathcal{P} A^{\\operatorname{T}} + B B^{\\operatorname{T}} &= 0, \\\\\n",
    "    A^{\\operatorname{T}} \\mathcal{P} E + E^{\\operatorname{T}} \\mathcal{P} A + C^{\\operatorname{T}} C &= 0\n",
    "\\end{align}\n",
    "\n",
    "and computing projection matrices for balanced truncation is all handled by the **BTReductor** class."
   ]
  },
  {
   "cell_type": "code",
   "execution_count": null,
   "metadata": {},
   "outputs": [],
   "source": [
    "from pymor.reductors.bt import BTReductor"
   ]
  },
  {
   "cell_type": "code",
   "execution_count": null,
   "metadata": {},
   "outputs": [],
   "source": [
    "bt = BTReductor(fom)"
   ]
  },
  {
   "cell_type": "code",
   "execution_count": null,
   "metadata": {},
   "outputs": [],
   "source": [
    "fig, ax = plt.subplots()\n",
    "error_bounds = bt.error_bounds()\n",
    "_ = ax.semilogy(range(1, len(error_bounds) + 1), error_bounds, '.-')"
   ]
  },
  {
   "cell_type": "code",
   "execution_count": null,
   "metadata": {},
   "outputs": [],
   "source": [
    "hinf_norm = spla.norm(fom.eval_tf(0))\n",
    "hinf_norm"
   ]
  },
  {
   "cell_type": "code",
   "execution_count": null,
   "metadata": {},
   "outputs": [],
   "source": [
    "rom = bt.reduce(tol=1e-5)"
   ]
  },
  {
   "cell_type": "code",
   "execution_count": null,
   "metadata": {},
   "outputs": [],
   "source": [
    "rom"
   ]
  },
  {
   "cell_type": "code",
   "execution_count": null,
   "metadata": {},
   "outputs": [],
   "source": [
    "print(rom)"
   ]
  },
  {
   "cell_type": "markdown",
   "metadata": {},
   "source": [
    "# Error system"
   ]
  },
  {
   "cell_type": "markdown",
   "metadata": {},
   "source": [
    "The difference of transfer functions of two LTI systems\n",
    "\n",
    "\\begin{align}\n",
    "H(s) - \\hat{H}(s) = C (s E - A)^{-1} B - \\hat{C} (s \\hat{E} - \\hat{A})^{-1} \\hat{B}\n",
    "\\end{align}\n",
    "\n",
    "can be represented as\n",
    "\n",
    "\\begin{align}\n",
    "H(s) - \\hat{H}(s) = \\begin{bmatrix} C & -\\hat{C} \\end{bmatrix} \\left(s \\begin{bmatrix} E & 0 \\\\ 0 & \\hat{E}\\end{bmatrix} - \\begin{bmatrix} A & 0 \\\\ 0 & \\hat{A} \\end{bmatrix} \\right)^{-1} \\begin{bmatrix} B \\\\ \\hat{B}\\end{bmatrix}.\n",
    "\\end{align}"
   ]
  },
  {
   "cell_type": "code",
   "execution_count": null,
   "metadata": {},
   "outputs": [],
   "source": [
    "err = fom - rom"
   ]
  },
  {
   "cell_type": "code",
   "execution_count": null,
   "metadata": {},
   "outputs": [],
   "source": [
    "err"
   ]
  },
  {
   "cell_type": "code",
   "execution_count": null,
   "metadata": {},
   "outputs": [],
   "source": [
    "print(err)"
   ]
  },
  {
   "cell_type": "markdown",
   "metadata": {},
   "source": [
    "# Bode plot of the error system"
   ]
  },
  {
   "cell_type": "code",
   "execution_count": null,
   "metadata": {},
   "outputs": [],
   "source": [
    "fig, axs = plt.subplots(2, 1, figsize=(6, 8), constrained_layout=True)\n",
    "_ = err.bode_plot(w, ax=np.array(4 * [[axs[0]], [axs[1]]]))"
   ]
  },
  {
   "cell_type": "code",
   "execution_count": null,
   "metadata": {},
   "outputs": [],
   "source": [
    "_ = err.mag_plot(w)"
   ]
  }
 ],
 "metadata": {
  "kernelspec": {
   "display_name": "Python 3",
   "language": "python",
   "name": "python3"
  },
  "language_info": {
   "codemirror_mode": {
    "name": "ipython",
    "version": 3
   },
   "file_extension": ".py",
   "mimetype": "text/x-python",
   "name": "python",
   "nbconvert_exporter": "python",
   "pygments_lexer": "ipython3",
   "version": "3.6.9"
  }
 },
 "nbformat": 4,
 "nbformat_minor": 4
}
